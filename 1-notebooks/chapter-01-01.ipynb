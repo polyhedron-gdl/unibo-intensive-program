{
 "cells": [
  {
   "cell_type": "markdown",
   "id": "f5b6bc9c",
   "metadata": {
    "slideshow": {
     "slide_type": "skip"
    }
   },
   "source": [
    "<table align=\"left\">\n",
    "  <td>\n",
    "    <a target=\"_blank\" href=\"https://colab.research.google.com/github/polyhedron-gdl/unibo-intensive-program-2024/blob/main/1-notebooks/chapter-01-01.ipynb\">\n",
    "        <img src=\"https://www.tensorflow.org/images/colab_logo_32px.png\" />Run in Google Colab</a>\n",
    "  </td>\n",
    "</table>"
   ]
  },
  {
   "cell_type": "markdown",
   "id": "b945686b",
   "metadata": {
    "slideshow": {
     "slide_type": "slide"
    }
   },
   "source": [
    "# Unsupervised Learning"
   ]
  },
  {
   "cell_type": "markdown",
   "id": "c3bfd5f9",
   "metadata": {
    "slideshow": {
     "slide_type": "slide"
    }
   },
   "source": [
    "## Introduction"
   ]
  },
  {
   "cell_type": "markdown",
   "id": "669babc4",
   "metadata": {
    "slideshow": {
     "slide_type": "subslide"
    }
   },
   "source": [
    "**What is Machine Learning**\n",
    "\n",
    "Machine learning (ML) is a branch of artificial intelligence (AI) focused on building systems that learn from data. At its core, machine learning enables computers to identify patterns and make decisions with minimal human intervention. The foundational principle of machine learning is to develop algorithms that can process large amounts of data, learn from this data, and then apply what they have learned to make informed decisions or predictions about new, unseen data.\n",
    "\n",
    "<center>\n",
    "    \n",
    "<img src=\"./pics/ch-01-01-00.jpg\" width=\"500\" height=\"500\">\n",
    "</center>"
   ]
  },
  {
   "cell_type": "markdown",
   "id": "86b20ad5",
   "metadata": {
    "slideshow": {
     "slide_type": "subslide"
    }
   },
   "source": [
    "<center>\n",
    "    \n",
    "<img src=\"./pics/ch-01-01-01.jpg\"  width=\"700\" height=\"700\">\n",
    "</center>"
   ]
  },
  {
   "cell_type": "markdown",
   "id": "20c3cf3a",
   "metadata": {
    "slideshow": {
     "slide_type": "subslide"
    }
   },
   "source": [
    "**The Paradigm of Machine Learning**\n",
    "\n",
    "- In traditional programming, humans provide the rules (algorithms) and the data, and the program processes this information to produce answers.\n",
    "\n",
    "- In the machine learning process, instead of being programmed with explicit rules, the system is fed with data and the answers (often known as the 'ground truth'). \n",
    "\n",
    "- It then learns the rules by identifying patterns in the data to arrive at the given answers.\n",
    "\n",
    "<center>\n",
    "    \n",
    "<img src=\"./pics/ch-01-01-10.jpg\" width=\"500\" height=\"500\">\n",
    "</center>"
   ]
  },
  {
   "cell_type": "markdown",
   "id": "dd4e38ca",
   "metadata": {
    "slideshow": {
     "slide_type": "subslide"
    }
   },
   "source": [
    "**Key Steps**\n",
    "\n",
    "- The process of machine learning involves several key steps: \n",
    "   - data collection, \n",
    "   - data preprocessing, \n",
    "   - model selection, \n",
    "   - training, \n",
    "   - evaluation, \n",
    "   - deployment (eventually). \n",
    "\n",
    "- Data collection encompasses gathering the raw data needed for the learning process. This data can come from a wide range of sources, including but not limited to, databases, sensors, and user interactions. \n",
    "\n",
    "- Data preprocessing involves cleaning and organizing this data into a format that can be effectively used by machine learning models. This step often includes handling missing values, normalizing data, and encoding categorical variables."
   ]
  },
  {
   "cell_type": "markdown",
   "id": "80b928d9",
   "metadata": {
    "slideshow": {
     "slide_type": "subslide"
    }
   },
   "source": [
    "**Training**\n",
    "\n",
    "- Training the model involves feeding the preprocessed data into the model, allowing it to learn and adjust its parameters. \n",
    "\n",
    "- This is typically done through a process called optimization, where the model makes predictions on the training data and adjusts its parameters to minimize the difference between its predictions and the actual outcomes.\n",
    "\n",
    "<center>\n",
    "    \n",
    "<img src=\"./pics/ch-01-01-11.jpg\" width=\"500\" height=\"500\">\n",
    "</center>"
   ]
  },
  {
   "cell_type": "markdown",
   "id": "e4d979f6",
   "metadata": {
    "slideshow": {
     "slide_type": "subslide"
    }
   },
   "source": [
    "**Evaluation**\n",
    "\n",
    "- Evaluation is a critical step where the trained model is tested on a separate dataset to assess its performance. \n",
    "\n",
    "- This helps to ensure that the model can generalize well to new, unseen data. Common metrics used for evaluation include accuracy, precision, recall, and the F1 score for classification problems, and mean squared error or mean absolute error for regression problems.\n",
    "\n",
    "\n",
    "<center>\n",
    "    \n",
    "<img src=\"./pics/ch-01-01-12.jpg\" width=\"500\" height=\"500\">\n",
    "</center>"
   ]
  },
  {
   "cell_type": "markdown",
   "id": "7db041ee",
   "metadata": {
    "slideshow": {
     "slide_type": "subslide"
    }
   },
   "source": [
    "**Model Selection**\n",
    "\n",
    "Model selection is the process of choosing the appropriate algorithm to solve a specific problem. There are many types of machine learning models, including \n",
    "- supervised learning models, where the algorithm learns from a labeled dataset; \n",
    "- unsupervised learning models, where the algorithm learns patterns from unlabeled data; \n",
    "- reinforcement learning models, where an agent learns to make decisions by interacting with an environment.\n",
    "\n",
    "Let's describe in more details the difference among these models..."
   ]
  },
  {
   "cell_type": "markdown",
   "id": "4ccf91b9",
   "metadata": {
    "slideshow": {
     "slide_type": "slide"
    }
   },
   "source": [
    "## The three different types of machine learning"
   ]
  },
  {
   "cell_type": "markdown",
   "id": "ffdde5d2",
   "metadata": {
    "slideshow": {
     "slide_type": "subslide"
    }
   },
   "source": [
    "### Supervised Learning\n",
    "\n",
    "The main goal in supervised learning is to learn a model from labeled training data that allows us to make predictions about unseen or future data. Here, the term \"supervised\" refers to a set of **training** examples (data inputs) where the\n",
    "desired output signals (**labels**) are already known. The following figure summarizes a typical supervised learning workflow, where the labeled training data is passed to a machine learning algorithm for fitting a predictive model that can make\n",
    "predictions on new, unlabeled data inputs:"
   ]
  },
  {
   "cell_type": "markdown",
   "id": "61bc43dc",
   "metadata": {
    "slideshow": {
     "slide_type": "subslide"
    }
   },
   "source": [
    "<center>\n",
    "    \n",
    "<img src=\"./pics/ch-01-01-02.jpg\">\n",
    "</center>"
   ]
  },
  {
   "cell_type": "markdown",
   "id": "46cefe4d",
   "metadata": {
    "slideshow": {
     "slide_type": "subslide"
    }
   },
   "source": [
    "**The two most important types of Supervised MOdels**\n",
    "\n",
    "- A supervised learning task with discrete class labels, such as in the previous example, is also called a **classification\n",
    "task**. \n",
    "\n",
    "- A second type of supervised learning is the prediction of continuous outcomes, which is also called **regression analysis**. In regression analysis, we are given a number of predictor (explanatory) variables and a continuous response variable (outcome), and we try to find a relationship between those variables that allows us to predict an outcome. \n",
    "\n",
    "Note that in the field of machine learning, the predictor variables are commonly called ***features***, and the response variables are usually referred to as ***target variables***."
   ]
  },
  {
   "cell_type": "markdown",
   "id": "55a4bbab",
   "metadata": {
    "slideshow": {
     "slide_type": "subslide"
    }
   },
   "source": [
    "<center>\n",
    "    \n",
    "<img src=\"./pics/ch-01-01-03.jpg\">\n",
    "</center>"
   ]
  },
  {
   "cell_type": "markdown",
   "id": "acf82127",
   "metadata": {
    "slideshow": {
     "slide_type": "subslide"
    }
   },
   "source": [
    "### Unsupervised Learning\n",
    "\n",
    "- In supervised learning, we know the right answer beforehand when we train a model. \n",
    "\n",
    "- In **unsupervised learning**, however, we are dealing with ***unlabeled data*** or data of unknown structure. \n",
    "\n",
    "- Using unsupervised learning techniques, we are able to explore the structure of our data to extract meaningful information without the guidance of a known outcome variable or reward function."
   ]
  },
  {
   "cell_type": "markdown",
   "id": "c1223ad0",
   "metadata": {
    "slideshow": {
     "slide_type": "subslide"
    }
   },
   "source": [
    "**Clustering** \n",
    "\n",
    "- Clustering is an exploratory data analysis technique that allows us to organize a pile of information into meaningful subgroups (clusters) *without having any prior knowledge of their group memberships*. \n",
    "\n",
    "- Each cluster that arises during the analysis defines a group of objects that share a certain degree of **similarity** but are more dissimilar to objects in other clusters, which is why clustering is also sometimes called unsupervised classification. Clustering is a great technique for structuring information and deriving meaningful relationships from data. For example, it allows marketers to discover customer groups based on their interests, in order to develop distinct marketing programs.\n",
    "\n",
    "<center>\n",
    "    \n",
    "<img src=\"./pics/ch-01-01-04.jpg\" width=\"500\" height=\"500\">\n",
    "</center>"
   ]
  },
  {
   "cell_type": "markdown",
   "id": "28a95faa",
   "metadata": {
    "slideshow": {
     "slide_type": "subslide"
    }
   },
   "source": [
    "**Clustering IS NOT Classification**\n",
    "\n",
    "<center>\n",
    "    \n",
    "<img src=\"./pics/ch-01-01-05.jpg\">\n",
    "</center>"
   ]
  },
  {
   "cell_type": "markdown",
   "id": "7848cc93",
   "metadata": {
    "slideshow": {
     "slide_type": "subslide"
    }
   },
   "source": [
    "### Reinforcement Learning\n",
    "\n",
    "- Another type of machine learning is **reinforcement learning**. \n",
    "\n",
    "- In reinforcement learning, the goal is to develop a system (***agent***) that improves its performance based on interactions with the environment. \n",
    "\n",
    "- Since the information about the current state of the environment typically also includes a so-called **reward signal**, we can think of reinforcement learning as a field related to supervised learning. \n",
    "\n",
    "- However, in reinforcement learning, this feedback is not the correct ground truth label or value, but a measure of how well the action was measured by a reward function. Through its interaction with the environment, an agent can then use reinforcement learning to learn a series of actions that maximizes this reward via an exploratory trial-and-error approach or deliberative planning. A popular example of reinforcement learning is a chess engine. Here, the agent decides upon a series of moves depending on the state of the board (the environment), and the reward can be defined as win or lose at the end of the game."
   ]
  },
  {
   "cell_type": "markdown",
   "id": "589395d9",
   "metadata": {
    "slideshow": {
     "slide_type": "slide"
    }
   },
   "source": [
    "## Features and Labels\n",
    "\n",
    "- The data for supervised learning contains what are referred to as **features** and **labels**. \n",
    "\n",
    "- The **labels** are the values of the target that is to be predicted. \n",
    "\n",
    "- The **features** are the variables from which the predictions are to be made. \n"
   ]
  },
  {
   "cell_type": "markdown",
   "id": "055217f3",
   "metadata": {
    "slideshow": {
     "slide_type": "subslide"
    }
   },
   "source": [
    "\n",
    "For example when predicting the price of a house the **features** could be the square meters of living space, the number of bedrooms, the number of bathrooms, the size of the garage and so on. The **label** would be the house price.\n",
    "\n",
    "<center>\n",
    "    \n",
    "<img src=\"./pics/ch-01-01-06.jpg\" width=\"500\" height=\"500\">\n",
    "</center>"
   ]
  },
  {
   "cell_type": "markdown",
   "id": "a543937d",
   "metadata": {
    "slideshow": {
     "slide_type": "subslide"
    }
   },
   "source": [
    "**The main difference between supervised and unsupervised learning: Labeled data**\n",
    "\n",
    "- Risking of being repetitive, I want to stress again that the main distinction between the two approaches is the use of labeled datasets. To put it simply, supervised learning uses labeled input and output data, while an unsupervised learning algorithm does not.\n",
    "\n",
    "- Unsupervised learning models, in contrast, work on their own to discover the inherent structure of unlabeled data. Note that they still require some human intervention for validating output variables. \n",
    "\n",
    "<center>\n",
    "    \n",
    "<img src=\"./pics/ch-01-01-07.jpg\" width=\"500\" height=\"500\">\n",
    "</center>"
   ]
  },
  {
   "cell_type": "markdown",
   "id": "60e3ad9b",
   "metadata": {
    "slideshow": {
     "slide_type": "slide"
    }
   },
   "source": [
    "## Basic of Unsupervised Learning"
   ]
  },
  {
   "cell_type": "markdown",
   "id": "b93332e5",
   "metadata": {
    "slideshow": {
     "slide_type": "subslide"
    }
   },
   "source": [
    "**Pattern Detection**\n",
    "\n",
    "- As we have seen, at its core, unsupervised learning involves the analysis of data sets without predefined or known outcomes. \n",
    "- The algorithms seek to identify patterns or groupings from the input data without any guidance or supervision. \n",
    "- This form of learning is crucial when the task at hand does not include prior knowledge, or when it is impractical to obtain labeled data, which is often expensive and time-consuming. \n",
    "- Unsupervised learning, unlike its counterpart supervised learning, operates on **data without labeled responses**. \n",
    "- The primary goal is **to unearth hidden patterns, intrinsic structures, or useful representations** from such unlabeled data. \n"
   ]
  },
  {
   "cell_type": "markdown",
   "id": "fbd61b6a",
   "metadata": {
    "slideshow": {
     "slide_type": "subslide"
    }
   },
   "source": [
    "**Key Techniques in Unsupervised Learning**\n",
    "\n",
    "- **Clustering**: Clustering is perhaps the most well-known unsupervised learning technique. It involves grouping a set of objects in such a way that objects in the same group (called a cluster) are more similar to each other than to those in other groups. Common clustering algorithms include K-Means, hierarchical clustering, and DBSCAN.\n",
    "\n",
    "- **Dimensionality Reduction**: This technique is about reducing the number of random variables under consideration and can be divided into feature selection and feature extraction. Methods like Principal Component Analysis (PCA), t-Distributed Stochastic Neighbor Embedding (t-SNE), and autoencoders are widely used for dimensionality reduction.\n",
    "\n",
    "- **Association Rule Learning**: This technique is used to discover interesting relations between variables in large databases. It’s commonly used in market basket analysis where it reveals how items purchased by customers are related. The Apriori algorithm is a classic example of association rule learning.\n",
    "\n",
    "- **Anomaly Detection**: Anomaly detection involves identifying unusual patterns that do not conform to expected behavior. It is widely used in fraud detection, system health monitoring, and outlier detection in data cleaning and preprocessing."
   ]
  },
  {
   "cell_type": "markdown",
   "id": "66fb84b8",
   "metadata": {
    "slideshow": {
     "slide_type": "subslide"
    }
   },
   "source": [
    "**Applications of Unsupervised Learning**\n",
    "\n",
    "Unsupervised learning techniques are applied in numerous fields due to their ability to discover hidden patterns in unlabeled data.\n",
    "\n",
    "- In **marketing**, clustering helps in customer segmentation by identifying groups of customers with similar behaviors or preferences.\n",
    "\n",
    "- In **genomics**, it assists in understanding genetic structures and variations by clustering similar genetic patterns.\n",
    "\n",
    "- **Finance** sector employs anomaly detection for fraudulent transaction identification.\n",
    "\n",
    "- In **image processing**, unsupervised learning helps in image compression and segmentation.\n",
    "\n",
    "- **Natural Language Processing** (NLP) utilizes unsupervised learning for topic modeling and word clustering."
   ]
  },
  {
   "cell_type": "markdown",
   "id": "2262d60a",
   "metadata": {
    "slideshow": {
     "slide_type": "subslide"
    }
   },
   "source": [
    "**Challenges and Considerations in Unsupervised Learning**\n",
    "\n",
    "While unsupervised learning is powerful, it comes with its set of challenges:\n",
    "\n",
    "- **Interpretability**: The outcomes of unsupervised learning are often difficult to interpret. Since there are no predefined labels, the meaning and significance of the results can be ambiguous and require domain expertise for interpretation.\n",
    "\n",
    "- **Evaluation Metrics**: Evaluating the performance of unsupervised learning models is challenging since there is no ground truth to compare against. Metrics such as silhouette score or Davies-Bouldin index are used in clustering, but they don’t always provide a clear indication of model performance.\n",
    "\n",
    "- **Data Quality**: The quality of outcomes heavily depends on the quality of input data. Noisy, incomplete, or inconsistent data can lead to misleading patterns and results."
   ]
  },
  {
   "cell_type": "markdown",
   "id": "ff526c7a",
   "metadata": {
    "slideshow": {
     "slide_type": "slide"
    }
   },
   "source": [
    "## Learning Tools"
   ]
  },
  {
   "cell_type": "markdown",
   "id": "e5fc9bff",
   "metadata": {
    "slideshow": {
     "slide_type": "slide"
    }
   },
   "source": [
    "### Using Python for machine learning"
   ]
  },
  {
   "cell_type": "markdown",
   "id": "4cf9bbb1",
   "metadata": {
    "slideshow": {
     "slide_type": "subslide"
    }
   },
   "source": [
    "Python is one of the most popular programming languages for data science and\n",
    "thanks to its very active developer and open source community, a large number of\n",
    "useful libraries for scientific computing and machine learning have been developed.\n",
    "Although the performance of interpreted languages, such as Python, for\n",
    "computation-intensive tasks is inferior to lower-level programming languages,\n",
    "extension libraries such as **NumPy**, **Matplotlib** and **Pandas**, among the others, have been developed that build\n",
    "upon lower-layer Fortran and C implementations for fast vectorized operations\n",
    "on multidimensional arrays.\n",
    "For machine learning programming tasks, we will mostly refer to the **scikit-learn**\n",
    "library, which is currently one of the most popular and accessible open source\n",
    "machine learning libraries. In the later chapters, when we focus on a subfield\n",
    "of machine learning called deep learning, we will use the latest version of the\n",
    "**Keras** library, which specializes in training so-called deep neural network\n",
    "models very efficiently. "
   ]
  },
  {
   "cell_type": "markdown",
   "id": "4a98a49b",
   "metadata": {
    "slideshow": {
     "slide_type": "slide"
    }
   },
   "source": [
    "### Installing Python and Packages"
   ]
  },
  {
   "cell_type": "markdown",
   "id": "bc81cae3",
   "metadata": {
    "slideshow": {
     "slide_type": "subslide"
    }
   },
   "source": [
    "To set up your python environment, you’ll first need to have a python on your machine. There are various python distributions available and we have chosen one that works very well for data science: **Anaconda**. Anaconda comes with its own Python distribution which will be installed along with it. \n",
    "\n",
    "Data Science often requires you to work with a lot of scientific packages like scipy and numpy, data manipulation packages like pandas and IDEs and interactive Jupyter Notebook.Now, you don’t need to worry about any python package most of them come pre-installed and if you want to install a new package, you can do that simply by using conda or via the pip installer program, which has been part of the Python Standard Library\n",
    "since Python 3.3. More information about pip can be found [here](https://docs.python.org/3/installing/index.html). After we have successfully installed Python, we can execute pip from the terminal\n",
    "to install additional Python packages:\n",
    "\n",
    "**pip install SomePackage**\n",
    "\n",
    "Already installed packages can be updated via the --upgrade flag:\n",
    "\n",
    "**pip install SomePackage --upgrade**\n",
    "\n",
    "To download an Anaconda distribution, you can use the [official download page](https://www.anaconda.com/download/) and\n",
    "you can select your platform and then choose the installer. For this, you can choose which version you want and whether 32-bit or 64-bit."
   ]
  },
  {
   "cell_type": "markdown",
   "id": "60f66db2",
   "metadata": {
    "slideshow": {
     "slide_type": "subslide"
    }
   },
   "source": [
    "<center>\n",
    "    \n",
    "<img src=\"./pics/ch-01-01-08.jpg\">\n",
    "</center>"
   ]
  },
  {
   "cell_type": "markdown",
   "id": "933d5a18",
   "metadata": {
    "slideshow": {
     "slide_type": "subslide"
    }
   },
   "source": [
    "To test your installation, on Windows, click on Start and then Anaconda Navigator in the program list (or search for Anaconda in the search bar and select Anaconda Navigator). On a Mac, open up the finder, and in the Applications folder, double click on Anaconda-Navigator."
   ]
  },
  {
   "cell_type": "markdown",
   "id": "555054bd",
   "metadata": {
    "slideshow": {
     "slide_type": "subslide"
    }
   },
   "source": [
    "<center>\n",
    "    \n",
    "<img src=\"./pics/ch-01-01-09.jpg\">\n",
    "</center>"
   ]
  },
  {
   "cell_type": "markdown",
   "id": "0241e4fa",
   "metadata": {
    "slideshow": {
     "slide_type": "subslide"
    }
   },
   "source": [
    "**Package Managers**\n",
    "\n",
    "Anaconda will give you two package managers- **pip** and **conda**. When some packages aren’t available with conda, you can use pip to install them. Note that using pip to install packages also available to conda may cause an installation error."
   ]
  },
  {
   "cell_type": "markdown",
   "id": "190c6846",
   "metadata": {
    "slideshow": {
     "slide_type": "subslide"
    }
   },
   "source": [
    "**Jupyter Notebook**\n",
    "\n",
    "- Jupyter Notebook is a graphical user interface (GUI) for running code interactively and interleaving it with text documentation and figures. Due to its versatility and ease of use, it has become one of the most popular tools in data science.\n",
    "\n",
    "- A notebook is a document like this one! A notebook integrates code and its output into a single document that combines visualizations, narrative text, mathematical equations, and other rich media.\n",
    "\n",
    "- In other words: it's a single document where you can run code, display the output, and also add explanations, formulas, charts, and make your work more transparent, understandable, repeatable, and shareable. As part of the open source Project Jupyter, Jupyter Notebooks are completely free. You can download the software on its own, or as part of the Anaconda data science toolkit.\n",
    "\n",
    "- For more information about the general Jupyter Notebook GUI, please view the official documentation [here](https://jupyter-notebook.readthedocs.io/en/stable/)."
   ]
  },
  {
   "cell_type": "markdown",
   "id": "ac3d6ac8",
   "metadata": {
    "slideshow": {
     "slide_type": "skip"
    }
   },
   "source": [
    "We highly recommend Adam Rule et al.'s article \"Ten simple rules for writing and sharing computational analyses in\n",
    "Jupyter Notebooks on using Jupyter Notebook effectively\" in scientific research projects, which is freely available [here](https://journals.plos.org/ploscompbiol/article?id=10.1371/journal.pcbi.1007007)"
   ]
  },
  {
   "cell_type": "markdown",
   "id": "01e57509",
   "metadata": {
    "slideshow": {
     "slide_type": "subslide"
    }
   },
   "source": [
    "### Google Colab\n",
    "\n",
    "- Google Colaboratory, commonly known as Google Colab, is a free cloud service hosted by Google to encourage machine learning and artificial intelligence research, making it accessible to a broader audience. \n",
    "\n",
    "- Colab provides a platform that enables users to write and execute Python code through a web browser without requiring any setup. It provides Jupyter Notebook instances that run on the cloud; the notebooks can be saved on Google Drive or GitHub.\n",
    "\n",
    "- It is particularly favored for its ability to offer free access to computing resources, including GPUs and TPUs, which can significantly speed up computation times for data analysis and model training, making advanced machine learning projects feasible for those without access to high-end hardware.\n",
    "\n",
    "- Accessing Google Colab is very straightforward. You can visit https://colab.research.google.com, which automatically takes you to a prompt window where you can see your existing Jupyter notebooks. "
   ]
  },
  {
   "cell_type": "markdown",
   "id": "da2ec15f",
   "metadata": {
    "slideshow": {
     "slide_type": "subslide"
    }
   },
   "source": [
    "**Integration with Google Drive**\n",
    "\n",
    "- One of the key features of Google Colab is its integration with Google Drive, allowing users to easily share their work, collaborate in real-time with others, and access their notebooks from anywhere. \n",
    "\n",
    "- This feature fosters a collaborative environment, making it easier for users to work together on projects, share insights, and learn from each other."
   ]
  },
  {
   "cell_type": "markdown",
   "id": "8ca36def",
   "metadata": {
    "slideshow": {
     "slide_type": "subslide"
    }
   },
   "source": [
    "**Colab works with Jupyter Notebook**\n",
    "\n",
    "- Colab notebooks support various popular machine learning libraries, such as TensorFlow, PyTorch, Keras, and OpenCV, enabling users to experiment with deep learning and other advanced algorithms. \n",
    "\n",
    "- These notebooks are interactive, allowing the inclusion of rich media, documentation, and even interactive widgets, which enhances the learning and development process."
   ]
  },
  {
   "cell_type": "markdown",
   "id": "dc2df05e",
   "metadata": {
    "slideshow": {
     "slide_type": "skip"
    }
   },
   "source": [
    "Although it is not essential to work in a colab environment (all the course notebooks are in fact designed to be able to run without problems locally on your pc), it is useful to know some basic elements of the interaction with colab. In particular, in the cells below you will find two examples for the use of external files. In the first case it is shown how to load a text file from your local PC into the google virtual machine. The second example relates to the opposite operation: let's create a simple pandas dataframe into the colab environment and export it in csv format to the local machine."
   ]
  },
  {
   "cell_type": "markdown",
   "id": "8d1ac6fd",
   "metadata": {
    "slideshow": {
     "slide_type": "skip"
    }
   },
   "source": [
    "**How Upload a File on Google Colab**"
   ]
  },
  {
   "cell_type": "code",
   "execution_count": 14,
   "id": "44063904",
   "metadata": {
    "slideshow": {
     "slide_type": "skip"
    }
   },
   "outputs": [],
   "source": [
    "if 'google.colab' in str(get_ipython()):\n",
    "    from google.colab import files\n",
    "    uploaded = files.upload()\n",
    "    path = ''\n",
    "else:\n",
    "    path = './data/'"
   ]
  },
  {
   "cell_type": "code",
   "execution_count": 15,
   "id": "f03b7321",
   "metadata": {
    "slideshow": {
     "slide_type": "skip"
    }
   },
   "outputs": [
    {
     "data": {
      "text/plain": [
       "'Country,Abbrev,Corruption,Peace,Legal,GDP Growth\\nAlbania,AL,39,1.867,3.822,3.403\\nAlgeria,DZ,34,2.213'"
      ]
     },
     "execution_count": 15,
     "metadata": {},
     "output_type": "execute_result"
    }
   ],
   "source": [
    "with open(path + \"countryriskdata.csv\", \"r\") as f:\n",
    "    file = f.read()\n",
    "    \n",
    "file[:100]    "
   ]
  },
  {
   "cell_type": "markdown",
   "id": "2965c2e7",
   "metadata": {
    "slideshow": {
     "slide_type": "skip"
    }
   },
   "source": [
    "**How Download a File on Google Colab**"
   ]
  },
  {
   "cell_type": "code",
   "execution_count": 16,
   "id": "15d56553",
   "metadata": {
    "slideshow": {
     "slide_type": "skip"
    }
   },
   "outputs": [],
   "source": [
    "import pandas as pd\n",
    "\n",
    "cars = {'Brand': ['Honda Civic','Toyota Corolla','Ford Focus','Audi A4'],\n",
    "        'Price': [22000,25000,27000,35000]\n",
    "        }\n",
    "\n",
    "df = pd.DataFrame(cars, columns= ['Brand', 'Price'])"
   ]
  },
  {
   "cell_type": "code",
   "execution_count": 17,
   "id": "a2d6ca22",
   "metadata": {
    "slideshow": {
     "slide_type": "skip"
    }
   },
   "outputs": [],
   "source": [
    "if 'google.colab' in str(get_ipython()):\n",
    "    # if we run in google environment first we save in virtual machine...\n",
    "    df.to_csv ('export_dataframe.csv', index = False, header=True)\n",
    "    # ...then we download to local machine\n",
    "    from google.colab import files\n",
    "    files.download(\"export_dataframe.csv\")    \n",
    "else:\n",
    "    # if we are working in local we save directly with the usual method\n",
    "    df.to_csv ('./data/export_dataframe.csv', index = False, header=True)"
   ]
  },
  {
   "cell_type": "markdown",
   "id": "e3e7baa2",
   "metadata": {
    "slideshow": {
     "slide_type": "slide"
    }
   },
   "source": [
    "## Data Science Python Libraries\n",
    "\n",
    "As we delve into the multifaceted world of machine learning, a number of libraries stand out for their robustness and versatility. Among these, Scikit-learn, SciPy, Keras are cornerstones in the Python ecosystem for data science and provide a suite of tools that are indispensable for machine learning practitioners."
   ]
  },
  {
   "cell_type": "markdown",
   "id": "f0870d17",
   "metadata": {
    "slideshow": {
     "slide_type": "subslide"
    }
   },
   "source": [
    "<center>\n",
    "    \n",
    "<img src=\"./pics/scipy.png\" width=\"300\" height=\"300\">\n",
    "</center>\n",
    "\n",
    "- It is a scientific computing library that provides fundamental functionalities for mathematics, science, and engineering. It extends the capabilities of NumPy with additional modules for optimization, linear algebra, integration, interpolation, special functions, FFT, signal and image processing, ODE solvers, and more. \n",
    "\n",
    "- While SciPy is not exclusively a machine learning library, it forms the backbone of many higher-level machine learning operations that require scientific computations. Its modules are meticulously optimized for performance and are relied upon by researchers and developers for technical and scientific computing tasks that demand high precision and efficiency."
   ]
  },
  {
   "cell_type": "markdown",
   "id": "03a02bfd",
   "metadata": {
    "slideshow": {
     "slide_type": "subslide"
    }
   },
   "source": [
    "<center>\n",
    "    \n",
    "<img src=\"./pics/scikit_learn.png\" width=\"300\" height=\"300\">\n",
    "</center>\n",
    "\n",
    "\n",
    "- Commonly referred to as sklearn, is a specialized library that offers a wide array of machine learning algorithms and tools. \n",
    "\n",
    "- It is built on top of libraries such as NumPy, SciPy, and matplotlib, which are workhorses for numerical computing and data visualization in Python. Scikit-learn simplifies complex processes, allowing for the easy implementation of many machine learning techniques. \n",
    "\n",
    "- It encompasses algorithms for classification, regression, clustering, and dimensionality reduction, as well as utilities for model evaluation, data transformation, and data splitting. The library's consistency in API design makes it highly accessible for beginners, yet it remains powerful enough for seasoned practitioners to implement state-of-the-art machine learning models with only a few lines of code.\n"
   ]
  },
  {
   "cell_type": "markdown",
   "id": "aa34435d",
   "metadata": {
    "slideshow": {
     "slide_type": "subslide"
    }
   },
   "source": [
    "<center>\n",
    "    \n",
    "<img src=\"./pics/keras.png\" width=\"300\" height=\"300\">\n",
    "</center>\n",
    "\n",
    "\n",
    "- Keras is an open-source neural network library designed for ease of use, flexibility, and modularity, Keras acts as an interface for the TensorFlow library, allowing for the construction, training, and deployment of machine learning models with high-level building blocks. It is particularly favored for its user-friendly API, which enables rapid prototyping of deep learning models.\n",
    "\n",
    "- With Keras, developers can build complex machine learning models with minimal lines of code. It supports a wide range of network architectures, including fully connected, convolutional, and recurrent neural networks, as well as combinations of the two. Keras simplifies the process of building and training models by providing a set of pre-defined layers, optimizers, and utility functions. This makes it accessible to both beginners in machine learning and experienced researchers by abstracting away much of the complexity involved in developing deep learning models."
   ]
  },
  {
   "cell_type": "markdown",
   "id": "f6304fc5",
   "metadata": {
    "slideshow": {
     "slide_type": "subslide"
    }
   },
   "source": [
    "**References and Additional Infos**\n",
    "\n",
    "For those eager to explore the intricacies of Scikit-learn and SciPy, there are a wealth of resources available that range from official documentation to comprehensive textbooks and online courses.\n",
    "\n",
    "To delve into **Scikit-learn**, the library's official documentation (https://scikit-learn.org/stable/documentation.html) is the definitive reference, offering detailed guides and tutorials on every aspect of the library. It includes user guides for different machine learning algorithms, information on model selection and evaluation, and practical examples to get your hands dirty. For a more structured learning experience, ***\"Hands-On Machine Learning with Scikit-Learn, Keras, and TensorFlow\"*** by Aurélien Géron provides a deep dive into using Scikit-learn for practical machine learning. This book is well-regarded for its clear explanations and hands-on approach.\n",
    "\n",
    "When it comes to **SciPy**, the official documentation (https://docs.scipy.org/doc/scipy/reference/) is again an excellent starting point. It provides detailed documentation of all modules and functions within the library. For a broader understanding, ***\"Python for Data Analysis\"*** by Wes McKinney offers insights into using SciPy alongside pandas, NumPy, and other data analysis tools. For those who prefer a more interactive approach, platforms like Coursera, edX, and Udemy offer courses on scientific computing with Python that include modules on SciPy."
   ]
  },
  {
   "cell_type": "markdown",
   "id": "185890d7",
   "metadata": {
    "slideshow": {
     "slide_type": "skip"
    }
   },
   "source": [
    "In addition to these resources, communities such as Stack Overflow and GitHub provide forums where one can ask questions, share knowledge, and collaborate on projects. Journals such as the Journal of Machine Learning Research (JMLR) and conferences like SciPy and PyCon also publish papers and talks on the latest developments and applications of these libraries. These resources collectively provide a comprehensive ecosystem for learners to deepen their understanding and expertise in using Scikit-learn and SciPy for machine learning and scientific computing."
   ]
  },
  {
   "cell_type": "markdown",
   "id": "ef4beee6",
   "metadata": {
    "slideshow": {
     "slide_type": "slide"
    }
   },
   "source": [
    "## Emerging Trends and Future Directions\n",
    "\n",
    "Unsupervised learning is an area ripe for innovation and growth. Recent trends include the integration of unsupervised learning with deep learning techniques, such as deep neural networks and autoencoders. These approaches have shown promising results in complex tasks like feature learning, representation learning, and generative models.\n",
    "\n",
    "Another exciting development is the use of unsupervised learning in reinforcement learning and transfer learning, where it helps in feature discovery and efficient learning in environments with sparse or no labels."
   ]
  },
  {
   "cell_type": "markdown",
   "id": "27853efc",
   "metadata": {
    "slideshow": {
     "slide_type": "slide"
    }
   },
   "source": [
    "## Conclusion\n",
    "\n",
    "Unsupervised learning is a dynamic and expansive field in machine learning. Its ability to work with unlabeled data makes it incredibly versatile and valuable across various domains. As data continues to grow in size and complexity, the role of unsupervised learning in extracting meaningful information and discovering hidden patterns becomes increasingly important. While it poses unique challenges in terms of interpretation and evaluation, advancements in algorithms and computational power continue to push the boundaries, making unsupervised learning an exciting field to watch in the coming years. The future of unsupervised learning, intertwined with developments in artificial intelligence, holds immense potential for innovation and discovery, making it a key pillar in the quest to harness the power of data."
   ]
  },
  {
   "cell_type": "markdown",
   "id": "78204c56",
   "metadata": {
    "slideshow": {
     "slide_type": "slide"
    }
   },
   "source": [
    "## References and Credits"
   ]
  }
 ],
 "metadata": {
  "celltoolbar": "Slideshow",
  "kernelspec": {
   "display_name": "Python 3 (ipykernel)",
   "language": "python",
   "name": "python3"
  },
  "language_info": {
   "codemirror_mode": {
    "name": "ipython",
    "version": 3
   },
   "file_extension": ".py",
   "mimetype": "text/x-python",
   "name": "python",
   "nbconvert_exporter": "python",
   "pygments_lexer": "ipython3",
   "version": "3.10.9"
  },
  "toc": {
   "base_numbering": 1,
   "nav_menu": {},
   "number_sections": true,
   "sideBar": true,
   "skip_h1_title": false,
   "title_cell": "Table of Contents",
   "title_sidebar": "Contents",
   "toc_cell": false,
   "toc_position": {},
   "toc_section_display": true,
   "toc_window_display": false
  }
 },
 "nbformat": 4,
 "nbformat_minor": 5
}
