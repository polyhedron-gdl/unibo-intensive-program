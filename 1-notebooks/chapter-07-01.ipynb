{
 "cells": [
  {
   "cell_type": "markdown",
   "id": "23f009dd",
   "metadata": {},
   "source": [
    "<table align=\"left\">\n",
    "  <td>\n",
    "    <a target=\"_blank\" href=\"https://colab.research.google.com/github/polyhedron-gdl/unibo-intensive-program-2024/blob/main/1-notebooks/chapter-07-01.ipynb\">\n",
    "        <img src=\"https://www.tensorflow.org/images/colab_logo_32px.png\" />Run in Google Colab</a>\n",
    "  </td>\n",
    "</table>"
   ]
  },
  {
   "cell_type": "markdown",
   "id": "a1f90012",
   "metadata": {},
   "source": [
    "# Introduction to Deep Learning"
   ]
  },
  {
   "cell_type": "markdown",
   "id": "78bc5622",
   "metadata": {},
   "source": [
    "## What is a Neural Network\n",
    "\n",
    "Neural networks, also known as artificial neural networks (ANNs) or simulated neural networks (SNNs), are a subset of machine learning and are at the heart of deep learning algorithms. \n",
    "\n",
    "Artificial neural networks (ANNs) are comprised of a node layers, containing an input layer, one or more hidden layers, and an output layer. Each node, or artificial neuron, connects to another and has an associated weight and threshold. If the output of any individual node is above the specified threshold value, that node is activated, sending data to the next layer of the network. Otherwise, no data is passed along to the next layer of the network."
   ]
  },
  {
   "cell_type": "markdown",
   "id": "20afaefd",
   "metadata": {},
   "source": [
    "<center>\n",
    "    \n",
    "<img src=\"./pics/ch-07-01-00.jpg\" width=\"500\" height=\"500\">\n",
    "</center>"
   ]
  },
  {
   "cell_type": "markdown",
   "id": "ccd3aca2",
   "metadata": {},
   "source": [
    "![ch-01-01-20.jpg](./pics/ch-07-01-00.jpg)"
   ]
  },
  {
   "cell_type": "markdown",
   "id": "ecc14f47",
   "metadata": {},
   "source": [
    "Neural networks rely on **training data** to learn and improve their accuracy over time. However, once these learning algorithms are fine-tuned for accuracy, they are powerful tools in computer science and artificial intelligence, allowing us to classify and cluster data at a high velocity. Tasks in speech recognition or image recognition can take minutes versus hours when compared to the manual identification by human experts. One of the most well-known neural networks is Google’s search algorithm."
   ]
  },
  {
   "cell_type": "markdown",
   "id": "aef72727",
   "metadata": {},
   "source": [
    "### Transformations\n",
    "\n",
    "A Neural Network transforms its input data into meaningful outputs, a process that is **learned** from exposure to known examples of inputs and outputs. Therefore, the central problem in deep learning is to **meaningfully transform data**: in other words, **to learn useful representations of the input data at hand, representations that get us closer to the expected output**. \n",
    "\n",
    "What is a representation? At its core, it is simply a different way to look at data, to represent or encode data."
   ]
  },
  {
   "cell_type": "code",
   "execution_count": 31,
   "id": "be1774d5",
   "metadata": {},
   "outputs": [
    {
     "data": {
      "text/html": [
       "<div>\n",
       "<style scoped>\n",
       "    .dataframe tbody tr th:only-of-type {\n",
       "        vertical-align: middle;\n",
       "    }\n",
       "\n",
       "    .dataframe tbody tr th {\n",
       "        vertical-align: top;\n",
       "    }\n",
       "\n",
       "    .dataframe thead th {\n",
       "        text-align: right;\n",
       "    }\n",
       "</style>\n",
       "<table border=\"1\" class=\"dataframe\">\n",
       "  <thead>\n",
       "    <tr style=\"text-align: right;\">\n",
       "      <th></th>\n",
       "      <th>label</th>\n",
       "      <th>1x1</th>\n",
       "      <th>1x2</th>\n",
       "      <th>1x3</th>\n",
       "      <th>1x4</th>\n",
       "      <th>1x5</th>\n",
       "      <th>1x6</th>\n",
       "      <th>1x7</th>\n",
       "      <th>1x8</th>\n",
       "      <th>1x9</th>\n",
       "      <th>...</th>\n",
       "      <th>28x19</th>\n",
       "      <th>28x20</th>\n",
       "      <th>28x21</th>\n",
       "      <th>28x22</th>\n",
       "      <th>28x23</th>\n",
       "      <th>28x24</th>\n",
       "      <th>28x25</th>\n",
       "      <th>28x26</th>\n",
       "      <th>28x27</th>\n",
       "      <th>28x28</th>\n",
       "    </tr>\n",
       "  </thead>\n",
       "  <tbody>\n",
       "    <tr>\n",
       "      <th>0</th>\n",
       "      <td>5</td>\n",
       "      <td>0</td>\n",
       "      <td>0</td>\n",
       "      <td>0</td>\n",
       "      <td>0</td>\n",
       "      <td>0</td>\n",
       "      <td>0</td>\n",
       "      <td>0</td>\n",
       "      <td>0</td>\n",
       "      <td>0</td>\n",
       "      <td>...</td>\n",
       "      <td>0</td>\n",
       "      <td>0</td>\n",
       "      <td>0</td>\n",
       "      <td>0</td>\n",
       "      <td>0</td>\n",
       "      <td>0</td>\n",
       "      <td>0</td>\n",
       "      <td>0</td>\n",
       "      <td>0</td>\n",
       "      <td>0</td>\n",
       "    </tr>\n",
       "    <tr>\n",
       "      <th>1</th>\n",
       "      <td>0</td>\n",
       "      <td>0</td>\n",
       "      <td>0</td>\n",
       "      <td>0</td>\n",
       "      <td>0</td>\n",
       "      <td>0</td>\n",
       "      <td>0</td>\n",
       "      <td>0</td>\n",
       "      <td>0</td>\n",
       "      <td>0</td>\n",
       "      <td>...</td>\n",
       "      <td>0</td>\n",
       "      <td>0</td>\n",
       "      <td>0</td>\n",
       "      <td>0</td>\n",
       "      <td>0</td>\n",
       "      <td>0</td>\n",
       "      <td>0</td>\n",
       "      <td>0</td>\n",
       "      <td>0</td>\n",
       "      <td>0</td>\n",
       "    </tr>\n",
       "    <tr>\n",
       "      <th>2</th>\n",
       "      <td>4</td>\n",
       "      <td>0</td>\n",
       "      <td>0</td>\n",
       "      <td>0</td>\n",
       "      <td>0</td>\n",
       "      <td>0</td>\n",
       "      <td>0</td>\n",
       "      <td>0</td>\n",
       "      <td>0</td>\n",
       "      <td>0</td>\n",
       "      <td>...</td>\n",
       "      <td>0</td>\n",
       "      <td>0</td>\n",
       "      <td>0</td>\n",
       "      <td>0</td>\n",
       "      <td>0</td>\n",
       "      <td>0</td>\n",
       "      <td>0</td>\n",
       "      <td>0</td>\n",
       "      <td>0</td>\n",
       "      <td>0</td>\n",
       "    </tr>\n",
       "    <tr>\n",
       "      <th>3</th>\n",
       "      <td>1</td>\n",
       "      <td>0</td>\n",
       "      <td>0</td>\n",
       "      <td>0</td>\n",
       "      <td>0</td>\n",
       "      <td>0</td>\n",
       "      <td>0</td>\n",
       "      <td>0</td>\n",
       "      <td>0</td>\n",
       "      <td>0</td>\n",
       "      <td>...</td>\n",
       "      <td>0</td>\n",
       "      <td>0</td>\n",
       "      <td>0</td>\n",
       "      <td>0</td>\n",
       "      <td>0</td>\n",
       "      <td>0</td>\n",
       "      <td>0</td>\n",
       "      <td>0</td>\n",
       "      <td>0</td>\n",
       "      <td>0</td>\n",
       "    </tr>\n",
       "    <tr>\n",
       "      <th>4</th>\n",
       "      <td>9</td>\n",
       "      <td>0</td>\n",
       "      <td>0</td>\n",
       "      <td>0</td>\n",
       "      <td>0</td>\n",
       "      <td>0</td>\n",
       "      <td>0</td>\n",
       "      <td>0</td>\n",
       "      <td>0</td>\n",
       "      <td>0</td>\n",
       "      <td>...</td>\n",
       "      <td>0</td>\n",
       "      <td>0</td>\n",
       "      <td>0</td>\n",
       "      <td>0</td>\n",
       "      <td>0</td>\n",
       "      <td>0</td>\n",
       "      <td>0</td>\n",
       "      <td>0</td>\n",
       "      <td>0</td>\n",
       "      <td>0</td>\n",
       "    </tr>\n",
       "  </tbody>\n",
       "</table>\n",
       "<p>5 rows × 785 columns</p>\n",
       "</div>"
      ],
      "text/plain": [
       "   label  1x1  1x2  1x3  1x4  1x5  1x6  1x7  1x8  1x9  ...  28x19  28x20   \n",
       "0      5    0    0    0    0    0    0    0    0    0  ...      0      0  \\\n",
       "1      0    0    0    0    0    0    0    0    0    0  ...      0      0   \n",
       "2      4    0    0    0    0    0    0    0    0    0  ...      0      0   \n",
       "3      1    0    0    0    0    0    0    0    0    0  ...      0      0   \n",
       "4      9    0    0    0    0    0    0    0    0    0  ...      0      0   \n",
       "\n",
       "   28x21  28x22  28x23  28x24  28x25  28x26  28x27  28x28  \n",
       "0      0      0      0      0      0      0      0      0  \n",
       "1      0      0      0      0      0      0      0      0  \n",
       "2      0      0      0      0      0      0      0      0  \n",
       "3      0      0      0      0      0      0      0      0  \n",
       "4      0      0      0      0      0      0      0      0  \n",
       "\n",
       "[5 rows x 785 columns]"
      ]
     },
     "execution_count": 31,
     "metadata": {},
     "output_type": "execute_result"
    }
   ],
   "source": [
    "import pandas as pd\n",
    "import numpy as np\n",
    "import matplotlib.pyplot as plt\n",
    "data = pd.read_csv('./data/mnist_train.csv')\n",
    "data.head()"
   ]
  },
  {
   "cell_type": "code",
   "execution_count": 32,
   "id": "a941930b",
   "metadata": {},
   "outputs": [
    {
     "name": "stdout",
     "output_type": "stream",
     "text": [
      "7178\n"
     ]
    },
    {
     "data": {
      "image/png": "[encoded data removed]",
      "text/plain": [
       "<Figure size 640x480 with 1 Axes>"
      ]
     },
     "metadata": {},
     "output_type": "display_data"
    }
   ],
   "source": [
    "x_train = np.array(data.iloc[:,1:]) \n",
    "random_index =7178 #np.random.randint(0,40000)\n",
    "img = x_train[random_index].reshape(28,28)\n",
    "plt.imshow(img, cmap = \"gray\")\n",
    "print(random_index)"
   ]
  },
  {
   "cell_type": "code",
   "execution_count": 33,
   "id": "6b59c6c7",
   "metadata": {},
   "outputs": [],
   "source": [
    "np.savetxt('./data/number.csv',img, delimiter=';')"
   ]
  },
  {
   "cell_type": "markdown",
   "id": "5c38bf0c",
   "metadata": {},
   "source": [
    "<center>\n",
    "    \n",
    "<img src=\"./pics/ch-07-01-04.jpg\" width=\"500\" height=\"500\">\n",
    "</center>"
   ]
  },
  {
   "cell_type": "markdown",
   "id": "4fac12eb",
   "metadata": {},
   "source": [
    "![ch-01-01-20.jpg](./pics/ch-07-01-04.jpg)"
   ]
  },
  {
   "cell_type": "markdown",
   "id": "edf5bb95",
   "metadata": {},
   "source": [
    "## Mc Culloch and Pitts Artificial Neuron"
   ]
  },
  {
   "cell_type": "markdown",
   "id": "71432a50",
   "metadata": {},
   "source": [
    "The McCulloch and Pitts neuron is one of the oldest neural network. It has a single neuron and is the simplest form of a neural network. So it is very important to learn how it works because it is the most fundamental unit of a deep neural networks. \n",
    "\n",
    "The artificial neuron receives one or more inputs and sums them to produce an output. Usually each input is separately weighted, and the sum is passed through a non-linear function known as an activation function or transfer function. The transfer functions usually have a sigmoid shape, but they may also take the form of other non-linear functions, piecewise linear functions, or step functions. They are also often monotonically increasing, continuous, differentiable and bounded. "
   ]
  },
  {
   "cell_type": "markdown",
   "id": "c485553c",
   "metadata": {},
   "source": [
    "<center>\n",
    "    \n",
    "<img src=\"./pics/ch-07-01-01.jpg\" width=\"500\" height=\"500\">\n",
    "</center>"
   ]
  },
  {
   "cell_type": "markdown",
   "id": "ea8ac39c",
   "metadata": {},
   "source": [
    "![ch-01-01-20.jpg](./pics/ch-07-01-01.jpg)"
   ]
  },
  {
   "cell_type": "markdown",
   "id": "482272f3",
   "metadata": {},
   "source": [
    "## Feedforward Neural Networks"
   ]
  },
  {
   "cell_type": "markdown",
   "id": "fbb92e7d",
   "metadata": {},
   "source": [
    "Feedforward neural networks, or multi-layer perceptrons (MLPs), are what we’ve primarily been focusing on within this notebook. They are comprised of an input layer, a hidden layer or layers, and an output layer. Data usually is fed into these models to train them, and they are the foundation for computer vision, natural language processing, and other neural networks. \n",
    "\n",
    "The  simplest kind of feedforward neural network is a single-layer network, which consists of a single layer of output nodes; the inputs are fed directly to the outputs via a series of weights. The sum of the products of the weights and the inputs is calculated in each node, and if the value is above some threshold the neuron fires and takes the activated value; otherwise it takes the deactivated value. \n",
    "\n",
    "In the following we are going to implement a very simple neural network from scratch without any library. In my opinion this is very usefull because most people consider neural networks as a black-box and use libraries like Keras, TensorFlow and PyTorch which provide, among other things, automatic differentiation without a real understanding of how a neural network really works. Though it is not necessary to write your own code on how to compute gradients and backprop errors, having knowledge on it helps you in understanding a few concepts which can help you a lot in understanding how a neural networks works.."
   ]
  },
  {
   "cell_type": "markdown",
   "id": "93e2819b",
   "metadata": {},
   "source": [
    "### One Hidden Layer NN\n",
    "\n",
    "We will build a shallow dense neural network with one hidden layer"
   ]
  },
  {
   "cell_type": "markdown",
   "id": "c35b5fe7",
   "metadata": {},
   "source": [
    "<center>\n",
    "    \n",
    "<img src=\"./pics/ch-07-01-02.jpg\" width=\"300\" height=\"300\">\n",
    "</center>"
   ]
  },
  {
   "cell_type": "markdown",
   "id": "b7157566",
   "metadata": {},
   "source": [
    "![ch-01-01-20.jpg](./pics/ch-07-01-02.jpg)"
   ]
  },
  {
   "cell_type": "markdown",
   "id": "d8f71ae3",
   "metadata": {},
   "source": [
    "Where in the graph above, we have a input vector $x = (x_1, x_2)$, containing 2 features and 4 hidden nodes $a_1, a_2, a_3$ and $a_4$, and only one value in output $y_1 \\in [0, 1]$ (consider this a binary classification task with a prediction of probability)"
   ]
  },
  {
   "cell_type": "markdown",
   "id": "5f6f772c",
   "metadata": {},
   "source": [
    "In each hidden unit, take $a_1$ as example, a linear operation followed by an activation function, $f$, is performed. So given input $x = (x_1, x_2)$, inside node $a_1$, we have:\n",
    "\n",
    "$$z_1 = w_{11}x_1 + w_{12}x_2 + b_1$$\n",
    "\n",
    "$$a_1 = f(w_{11}x_1 + w_{12}x_2 + b_1) = f(z_1) $$\n",
    "\n",
    "Here $w_{11}$ denotes weight 1 of node 1, $w_{12}$ denotes weight 2 of node 1. Same for node $a_2$, it would have:\n",
    "\n",
    "$$z_2 = w_{21}x_1 + w_{22}x_2 + b_2$$\n",
    "\n",
    "$$a_2  = f(w_{21}x_1 + w_{22}x_2 + b_2) = f(z_2)$$\n",
    "\n",
    "And same for $a_3$ and $a_4$ and so on ...\n",
    "\n",
    "We can also write in a more compact form\n",
    "\n",
    "\\begin{equation}\n",
    "\\begin{pmatrix}\n",
    "z_1 \\\\ z_2 \\\\ z_3 \\\\ z_4\n",
    "\\end{pmatrix} =\n",
    "\\begin{pmatrix}\n",
    "w_{11} & w_{12} \\\\ w_{21} & w_{22} \\\\ w_{31} & w_{32} \\\\ w_{41} & w_{42}\n",
    "\\end{pmatrix} \n",
    "\\cdot \n",
    "\\begin{pmatrix}\n",
    "x_1 \\\\ x_2 \n",
    "\\end{pmatrix}\n",
    "+\n",
    "\\begin{pmatrix}\n",
    "b_1 \\\\ b_2 \\\\ b_3 \\\\ b_4\n",
    "\\end{pmatrix} \n",
    "\\Rightarrow Z^{[1]} = W^{[1]} \\cdot X + B^{[1]} \n",
    "\\end{equation}\n",
    "\n",
    "Note that superscript $[i]$ denotes the $ith$ layer. Let's assume that the first activation function is the $\\tanh$ and the output activation function is the $sigmoid$. So the result of the hidden layer is:\n",
    "\n",
    "$$ A^{[1]} = \\tanh{Z^{[1]}} $$\n",
    "\n",
    "This result is applied to the output node which will perform another linear operation with a different set of weights, $W^{[2]}$:\n",
    "\n",
    "$$ Z^{[2]} = W^{[2]} \\cdot A^{[1]} + B^{[2]} $$\n",
    "\n",
    "and the final output will be the result of the application of the output node activation function (the sigmoid) to this value:\n",
    "\n",
    "$$ \\hat{y} = \\sigma({Z^{[2]}})$$\n",
    "\n",
    "For the dimension of each matrix, we have:\n",
    "\n",
    "- $ W^{[1]}$ in the case above would have dimension $4 \\times 2$, with each $ith$ row is the weight of node $i$\n",
    "- $B^{[1]}$ has dimension $4 \\times 1$\n",
    "- $Z^{[1]}$ and $A^{[1]}$ both have dimention $4 \\times 1$\n",
    "- $W^{[2]}$ has dimension $1 \\times 4$\n",
    "- consequently, $Z^{[2]}$ and $A^{[2]}$ would have dimensition $1 \\times 1$, which is a single value\n",
    "\n",
    "Function $\\tanh$ and $sigmoid$ looks as below."
   ]
  },
  {
   "cell_type": "code",
   "execution_count": 34,
   "id": "b38605f0",
   "metadata": {},
   "outputs": [],
   "source": [
    "%matplotlib inline\n",
    "\n",
    "import numpy as np\n",
    "import matplotlib.pyplot as plt"
   ]
  },
  {
   "cell_type": "code",
   "execution_count": 35,
   "id": "49ef82cc",
   "metadata": {},
   "outputs": [],
   "source": [
    "def tanh(x):\n",
    "    return np.tanh(x)\n",
    "\n",
    "def sigmoid(x):\n",
    "    return 1/(1 + np.exp(-x))"
   ]
  },
  {
   "cell_type": "code",
   "execution_count": 36,
   "id": "1a8f7055",
   "metadata": {},
   "outputs": [
    {
     "data": {
      "text/plain": [
       "Text(0.5, 1.0, 'tanh')"
      ]
     },
     "execution_count": 36,
     "metadata": {},
     "output_type": "execute_result"
    },
    {
     "data": {
      "image/png": "[encoded data removed]",
      "text/plain": [
       "<Figure size 1000x400 with 2 Axes>"
      ]
     },
     "metadata": {},
     "output_type": "display_data"
    }
   ],
   "source": [
    "plt.figure(figsize=[10, 4])\n",
    "x = np.linspace(-10, 10)\n",
    "\n",
    "plt.subplot(1, 2, 1)\n",
    "plt.plot(x, sigmoid(x))\n",
    "plt.title('sigmoid')\n",
    "\n",
    "plt.subplot(1, 2, 2)\n",
    "plt.plot(x, tanh(x))\n",
    "plt.title('tanh')"
   ]
  },
  {
   "cell_type": "markdown",
   "id": "69e038d6",
   "metadata": {},
   "source": [
    "Notice that the only difference of these functions is the scale of y\n",
    "\n",
    "For the derivatives of the activation functions the following rules apply (see notebook chapter-07-01 appendix for details) :\n",
    "\n",
    "**Derivative of Hyperbolic Tangent**\n",
    "\n",
    "\\begin{equation}\n",
    "\\tanh x = \\frac{{{e^x} – {e^{ – x}}}}{{{e^x} + {e^{ – x}}}} \n",
    "\\Rightarrow \n",
    "\\frac{d}{{dx}}\\tanh x =  1 - {\\left(\\tanh x \\right)}^2 \n",
    "\\end{equation}\n",
    "\n",
    "**Derivative of Sigmoid Function** \n",
    "\n",
    "\\begin{equation}\n",
    "\\sigma(x) =  \\left[ \\dfrac{1}{1 + e^{-x}} \\right]  \\Rightarrow\n",
    "\\dfrac{d}{dx} \\sigma(x) =  \\sigma(x) \\cdot (1 - \\sigma(x))\n",
    "\\end{equation}\n"
   ]
  },
  {
   "cell_type": "markdown",
   "id": "b29ead11",
   "metadata": {},
   "source": [
    "### The Loss Function\n",
    " \n",
    "Remember that Linear regression uses Least Squared Error as loss function that gives a convex graph and then we can complete the optimization by finding its vertex as global minimum. However, it’s not an option for logistic regression anymore. Since the hypothesis is changed, Least Squared Error will result in a non-convex graph with local minimums by calculating with sigmoid function applied on raw model output."
   ]
  },
  {
   "cell_type": "markdown",
   "id": "854c45ee",
   "metadata": {},
   "source": [
    "<center>\n",
    "    \n",
    "<img src=\"./pics/ch-07-01-03.jpg\" >\n",
    "</center>"
   ]
  },
  {
   "cell_type": "markdown",
   "id": "dfcbb628",
   "metadata": {},
   "source": [
    "Furthermore using logistic regression, means that we are focusing on binary classification, we have class 0 and class 1. To compare with the target, we want to constrain predictions to some values between 0 and 1. That’s why Sigmoid Function is applied on the raw model output and provides the ability to predict with probability. So will follow a different path. \n",
    "\n",
    "Intuitively, we want to assign more punishment when predicting 1 while the actual is 0 and when predict 0 while the actual is 1. The loss function of logistic regression is doing this exactly which is called Logistic Loss. If y = 1,  when prediction = 1, the cost must be = 0, otherwise, when prediction = 0, the learning algorithm is punished by a very large cost. Similarly, if y = 0, predicting 0 has no punishment but predicting 1 has a large value of cost. In formula we have\n",
    "\n",
    "\\begin{equation}\n",
    "L(y, \\hat{y}) = \n",
    "\\begin{cases} \n",
    "-\\log{\\hat{y}} & \\text{when}\\, y = 1 \\\\ -\\log(1 - \\hat{y}) & \\text{when}\\, y = 0 \n",
    "\\end{cases} \n",
    "\\end{equation}\n",
    "\n",
    "Another advantage of this loss function is that although we are looking at it by y = 1 and y = 0 separately, it can be written as one single formula which brings convenience for calculation:\n",
    "\n",
    "$$ L(y, \\hat{y}) = -[y\\log{\\hat{y}} + (1 - y)\\log{(1 - \\hat{y})}] $$"
   ]
  },
  {
   "cell_type": "markdown",
   "id": "bc565da0",
   "metadata": {},
   "source": [
    "### Formula of Batch Training\n",
    " \n",
    "The above shows the formula of a single input vector, however in actual training processes, a batch is trained instead of 1 at a time. The change applied in the formula is trivial, we just need to replace the single vector $x$ with a matrix $X$ with size $n \\times m$, where $n$ is number of features and $m$ is the the batch size, samples are stacked column wise, and the following result matrix are applied likewise. We have the same formulas as before ... \n",
    "\n",
    "\\begin{equation}\n",
    "\\left\\{\n",
    "\\begin{aligned}\n",
    "& Z^{[1]} = W^{[1]}X + b^{[1]}  \\\\\n",
    "& A^{[1]} = \\tanh{Z^{[1]}}  \n",
    "\\end{aligned}\n",
    "\\right.\n",
    "\\end{equation}\n",
    "\n",
    "and\n",
    "\n",
    "\n",
    "\\begin{equation}\n",
    "\\left\\{\n",
    "\\begin{aligned}\n",
    "& Z^{[2]} = W^{[2]}A^{[1]} + b^{[2]} \\\\\n",
    "& A^{[2]} =  \\sigma({Z^{[2]}}) = \\hat{y}   \n",
    "\\end{aligned}\n",
    "\\right.\n",
    "\\end{equation}\n",
    "\n",
    "... but for the dimension of each matrix taken in this example now we have:\n",
    "\n",
    "- $X$ has dimension $2 \\times m$, as here there are 2 features and $m$ is the batch size\n",
    "- $W^{[1]}$ in the case above would have dimension $4 \\times 2$, with each $ith$ row is the weight of node $i$\n",
    "- $b^{[1]}$ has dimension $4 \\times 1$\n",
    "- $Z^{[1]}$ and $A^{[1]}$ both have dimension $4 \\times m$\n",
    "- $W^{[2]}$ has dimension $1 \\times 4$\n",
    "- consequently, $Z^{[2]}$ and $A^{[2]}$ would have dimension $1 \\times m$\n",
    "\n",
    "The loss function is the same as logistic regression, but for batch training, we'll take the average loss for all training samples.\n",
    "\n",
    "$$ J(W^{[1]}, b^{[1]}, W^{[2]}, b^{[2]}) = \\frac{1}{m} \\sum_{i}^{m}L(y^{(i)}, \\hat{y}^{(i)})  $$\n",
    "\n",
    "\n",
    "This is all for the forward propagation. To activate our neurons to learn, we need to get derivative of weight parameters and update them use gradient descent.\n",
    "\n",
    "But now it is enough for us to implement the forward propagation first."
   ]
  },
  {
   "cell_type": "markdown",
   "id": "d87ac3ff",
   "metadata": {},
   "source": [
    "### Generate Sample Dataset\n",
    " \n",
    "Scikit-learn includes various random sample generators that can be used to build artificial datasets of controlled size and complexity. Here we generate a simple **binary classification task** with 5000 data points and `n_features` features for later model validation."
   ]
  },
  {
   "cell_type": "code",
   "execution_count": 37,
   "id": "5009dccd",
   "metadata": {},
   "outputs": [],
   "source": [
    "n_features = 20\n",
    "n_hidden   = 10"
   ]
  },
  {
   "cell_type": "code",
   "execution_count": 38,
   "id": "2902f884",
   "metadata": {},
   "outputs": [
    {
     "name": "stdout",
     "output_type": "stream",
     "text": [
      "train shape (4000, 20)\n",
      "test shape (1000, 20)\n"
     ]
    }
   ],
   "source": [
    "from sklearn import datasets\n",
    "# Define the parameters for generating synthetic data using the make_classification function. \n",
    "# The function is invoked with specific arguments:\n",
    "# - n_samples    = 5000 : It generates a dataset with 5000 samples.\n",
    "# - random_state = 123  : It sets the random seed to ensure reproducibility.\n",
    "# - X is a NumPy array containing the feature data.\n",
    "# - y is a NumPy array containing the corresponding target labels.\n",
    "X, y = datasets.make_classification(n_samples=5000, n_features=n_features, n_informative=n_features, n_redundant=0, random_state=123)\n",
    "# Split the dataset into training and testing subsets: X_train and y_train contain 4000 samples, \n",
    "# which are used for training the machine learning model. X_test and y_test contain 1000 samples, \n",
    "# which are used for testing the model's \n",
    "X_train, X_test = X[:4000], X[4000:]\n",
    "y_train, y_test = y[:4000], y[4000:]\n",
    "\n",
    "print('train shape', X_train.shape)\n",
    "print('test shape', X_test.shape)"
   ]
  },
  {
   "cell_type": "code",
   "execution_count": 39,
   "id": "9a6c914b",
   "metadata": {},
   "outputs": [
    {
     "name": "stdout",
     "output_type": "stream",
     "text": [
      "[-0.28726786  4.48392645 -0.19663023  0.52875293 -1.44603544  3.33013291\n",
      " -0.49828395 -1.38991547  3.86964059  0.0259337   1.41931003 -0.26677859\n",
      "  3.21847861 -0.67232203 -2.7307319  -0.85791875  0.0631985   2.39609383\n",
      " -0.39872069 -3.49423158]\n"
     ]
    }
   ],
   "source": [
    "print(X[0])"
   ]
  },
  {
   "cell_type": "code",
   "execution_count": 40,
   "id": "6b6ef9a8",
   "metadata": {},
   "outputs": [
    {
     "name": "stdout",
     "output_type": "stream",
     "text": [
      "[0 0 1 0 0 1 0 0 1 0 0 1 0 0 1 1 0 0 0 1]\n"
     ]
    }
   ],
   "source": [
    "print(y[0:20])"
   ]
  },
  {
   "cell_type": "markdown",
   "id": "02ac4643",
   "metadata": {},
   "source": [
    "### Weights Initialization\n",
    " \n",
    "Our neural network has 1 hidden layer and 2 layers in total(hidden layer + output layer), so there are 4 weight matrices to initialize ($W^{[1]}, b^{[1]}$ and $W^{[2]}, b^{[2]}$). Notice that the weights are initialized relatively small so that the gradients would be higher thus learning faster in the beginning phase."
   ]
  },
  {
   "cell_type": "code",
   "execution_count": 41,
   "id": "69b629ca",
   "metadata": {},
   "outputs": [],
   "source": [
    "'''\n",
    "This code defines a Python function init_weights that initializes the weights and biases for a neural \n",
    "network with a specified architecture. The function takes three arguments:\n",
    "- n_input: An integer representing the number of input features.\n",
    "- n_hidden: An integer representing the number of neurons (units) in the hidden layer.\n",
    "- n_output: An integer representing the number of neurons in the output layer.\n",
    "\n",
    "The function returns a dictionary params containing the initialized weights and biases for the neural network.\n",
    "'''\n",
    "def init_weights(n_input, n_hidden, n_output):\n",
    "    # Initializes an empty dictionary called params where we will store the weight and bias parameter\n",
    "    params = {}\n",
    "    #  Initializes the weight matrix W1 for the first layer. It uses NumPy's np.random.randn function \n",
    "    # to generate random numbers from a standard normal distribution (mean 0, standard deviation 1) \n",
    "    # and multiplies them by 0.01 to scale the values. The shape of W1 is (n_hidden, n_input), \n",
    "    # which corresponds to the number of hidden units and input features.\n",
    "    params['W1'] = np.random.randn(n_hidden, n_input) * 0.01\n",
    "    #  Initializes the bias vector b1 for the first layer. It sets all the bias values to zero. \n",
    "    # The shape of b1 is (n_hidden, 1).\n",
    "    params['b1'] = np.zeros((n_hidden, 1))\n",
    "    # Initializes the weight matrix W2 for the second (output) layer in a similar way as W1. \n",
    "    # The shape of W2 is (n_output, n_hidden).\n",
    "    params['W2'] = np.random.randn(n_output, n_hidden) * 0.01\n",
    "    #  Initializes the bias vector b2 for the second layer, also setting all the bias values to zero. \n",
    "    # The shape of b2 is (n_output, 1).\n",
    "    params['b2'] = np.zeros((n_output, 1))\n",
    "    \n",
    "    return params"
   ]
  },
  {
   "cell_type": "code",
   "execution_count": 42,
   "id": "ae7db928",
   "metadata": {
    "scrolled": true
   },
   "outputs": [
    {
     "name": "stdout",
     "output_type": "stream",
     "text": [
      "W1 shape (10, 20)\n",
      "b1 shape (10, 1)\n",
      "W2 shape (1, 10)\n",
      "b2 shape (1, 1)\n"
     ]
    }
   ],
   "source": [
    "params = init_weights(n_features, n_hidden, 1)\n",
    "\n",
    "print('W1 shape', params['W1'].shape)\n",
    "print('b1 shape', params['b1'].shape)\n",
    "print('W2 shape', params['W2'].shape)\n",
    "print('b2 shape', params['b2'].shape)"
   ]
  },
  {
   "cell_type": "markdown",
   "id": "3c045503",
   "metadata": {},
   "source": [
    "### Forward Propagation\n",
    "\n",
    "Let's implement the forward process following equations $(5) \\sim (8)$."
   ]
  },
  {
   "cell_type": "code",
   "execution_count": 43,
   "id": "15e28483",
   "metadata": {},
   "outputs": [],
   "source": [
    "'''\n",
    "This code defines a Python function named forward that performs the forward propagation step of a neural network. \n",
    "Forward propagation computes the activations of each layer given the input data and the network's parameters. \n",
    "The function takes two arguments:\n",
    "\n",
    "- X      : A NumPy array representing the input data. The shape is expected to be (n_features x m_samples), \n",
    "           where n_features is the number of input features, and m_samples is the number of data samples.\n",
    "\n",
    "- params : A dictionary containing the network's parameters, including the weight matrices and bias vectors for \n",
    "           each layer. These parameters are typically initialized using the init_weights function.\n",
    "'''\n",
    "def forward(X, params):\n",
    "    # Unpacks the parameters from the params dictionary\n",
    "    W1, b1, W2, b2 = params['W1'], params['b1'], params['W2'], params['b2']\n",
    "    # Initializes A0 as the input data\n",
    "    A0 = X\n",
    "    # Initializes a dictionary cache to store intermediate values during forward propagation\n",
    "    cache = {}\n",
    "    #\n",
    "    # Computes the linear transformation and activation for the first layer (hidden layer):\n",
    "    #\n",
    "    # Compute the linear transformation Z1 by taking the dot product of the weight matrix W1 and the \n",
    "    # input A0, and adding the bias vector b1:\n",
    "    Z1 = np.dot(W1, A0) + b1\n",
    "    # Compute the activation A1 of the first layer by applying the hyperbolic tangent (tanh) \n",
    "    # activation function to Z1:\n",
    "    A1 = tanh(Z1)\n",
    "    #\n",
    "    # Computes the linear transformation and activation for the second layer (output layer):\n",
    "    #\n",
    "    # Compute the linear transformation Z2 by taking the dot product of the weight matrix W2 and the \n",
    "    # activation A1 from the first layer, and adding the bias vector b2:\n",
    "    Z2 = np.dot(W2, A1) + b2\n",
    "    # Compute the activation A2 of the second layer by applying the sigmoid activation function to Z2:\n",
    "    A2 = sigmoid(Z2)\n",
    "    # Stores the computed values in the cache dictionary for later use, typically in the backpropagation step\n",
    "    cache['Z1'] = Z1\n",
    "    cache['A1'] = A1\n",
    "    cache['Z2'] = Z2\n",
    "    cache['A2'] = A2\n",
    "    return  cache"
   ]
  },
  {
   "cell_type": "code",
   "execution_count": 44,
   "id": "7d8d06d4",
   "metadata": {},
   "outputs": [
    {
     "name": "stdout",
     "output_type": "stream",
     "text": [
      "Z1 shape (10, 100)\n",
      "A1 shape (10, 100)\n",
      "Z2 shape (1, 100)\n",
      "A2 shape (1, 100)\n"
     ]
    }
   ],
   "source": [
    "# get 100 samples\n",
    "inp = X[:100].T\n",
    "\n",
    "cache = forward(inp, params)\n",
    "\n",
    "print('Z1 shape', cache['Z1'].shape)\n",
    "print('A1 shape', cache['A1'].shape)\n",
    "print('Z2 shape', cache['Z2'].shape)\n",
    "print('A2 shape', cache['A2'].shape)"
   ]
  },
  {
   "cell_type": "markdown",
   "id": "a20caac1",
   "metadata": {},
   "source": [
    "### Loss Function\n",
    "\n",
    "Following equation $(9)$, let's calculate the loss of each batch."
   ]
  },
  {
   "cell_type": "code",
   "execution_count": 45,
   "id": "9716334b",
   "metadata": {},
   "outputs": [],
   "source": [
    "'''\n",
    "The loss function calculates the binary cross-entropy loss, which is commonly used as a loss function in \n",
    "binary classification problems. It quantifies the dissimilarity between the true values and the predicted \n",
    "values, with lower values indicating a better match between predictions and ground truth.\n",
    "\n",
    "The function takes two arguments:\n",
    "\n",
    "- Y    : A NumPy array representing the true values. It is expected to be a vector (1-dimensional array).\n",
    "- Y_hat: A NumPy array representing the predicted values. It is also expected to be a vector with the same shape as Y.\n",
    "'''\n",
    "def loss(Y, Y_hat):\n",
    "    # This assertion checks that Y is a row vector (1 row, multiple columns). It ensures that the true \n",
    "    # values are organized as a row vector.\n",
    "    assert Y.shape[0] == 1\n",
    "    # This assertion checks that the shape of Y matches the shape of Y_hat, which means they should have \n",
    "    # the same number of elements. This is essential to compare true and predicted values.\n",
    "    assert Y.shape == Y_hat.shape\n",
    "    # calculates the number of samples, denoted as m, by getting the number of columns in the Y array:\n",
    "    m = Y.shape[1]\n",
    "    # computes the binary cross-entropy loss. We calculate the loss for each individual sample in the \n",
    "    # vectors Y and Y_hat. Then we sum the log likelihood of the true class (if Y is 1) and the log \n",
    "    # likelihood of the complementary class (if Y is 0) for each sample. Finally, we compute the overall \n",
    "    # loss by taking the negative sum of the s values and dividing by the number of samples m. \n",
    "    # This is the average loss over all samples:\n",
    "    s = Y * np.log(Y_hat) + (1 - Y) * np.log(1 - Y_hat)\n",
    "    loss = -np.sum(s) / m\n",
    "    return loss"
   ]
  },
  {
   "cell_type": "code",
   "execution_count": 46,
   "id": "42c1b51b",
   "metadata": {},
   "outputs": [
    {
     "name": "stdout",
     "output_type": "stream",
     "text": [
      "loss 1.0113017144599339\n"
     ]
    }
   ],
   "source": [
    "Y = np.array([np.random.choice([0, 1]) for i in range(10)]).reshape(1, -1)\n",
    "Y_hat = np.random.uniform(0, 1, 10).reshape(1, -1)\n",
    "\n",
    "l = loss(Y, Y_hat)\n",
    "print(f'loss {l}')"
   ]
  },
  {
   "cell_type": "markdown",
   "id": "fd519697",
   "metadata": {},
   "source": [
    "### Delta Rule\n",
    "\n",
    "Now it comes to the so called ***delta rule*** which is the key to our weights update. With *delta rule* we compute the gradient of the loss function with respect to the weights of the network for a single input–output example.\n",
    "\n",
    "Given a generic actual value $y$, we want to minimize the loss $L$, and the technic we are going to apply here is gradient descent, basically what we need to do is to apply derivative to our variables and move them slightly down to the optimum. Here we have 2 variables, $W$ and $b$, and for this example, the update formula of them would be:\n",
    "\n",
    "\\begin{align}\n",
    "& W_{new} = W_{old} - \\frac{\\partial L}{\\partial W} \\Rightarrow \\Delta W = - \\frac{\\partial L}{\\partial W} \\\\\n",
    "& b_{new} = b_{old} - \\frac{\\partial L}{\\partial b} \\Rightarrow \\Delta b = - \\frac{\\partial L}{\\partial b}\n",
    "\\end{align}\n",
    "\n",
    "The delta rule algorithm works by computing the gradient of the loss function with respect to each weight. In order to get the derivative of our targets, chain rules would be applied:\n",
    "\n",
    "\\begin{align}\n",
    "& \\Delta W^{[1]} = - \\frac{\\partial L}{\\partial W^{[1]}} \\\\\n",
    "& \\Delta W^{[2]} = - \\frac{\\partial L}{\\partial W^{[2]}} \\\\\n",
    "& \\frac{\\partial L}{\\partial W^{[i]}} =  \\frac{\\partial L}{\\partial \\hat y} \\frac{\\partial \\hat y}{\\partial Z^{[2]}} \\frac{\\partial Z^{[2]}}{\\partial W^{[i]}} \n",
    "\\end{align}\n",
    "\n",
    "where $i=1,2$\n",
    "\n",
    "Given the loss function $L$ we defined above, we can easily compute the first partial derivative with respect to $\\hat y$:\n",
    "\n",
    "$$L(y, \\hat{y}) = -[y\\log{\\hat{y}} + (1 - y)\\log{(1 - \\hat{y})}] \\Rightarrow \n",
    "\\frac{\\partial L}{\\partial \\hat y} = -\\frac{y}{\\hat y} + \\frac{1-y}{1-\\hat y} = \\frac{\\hat y - y}{\\hat y(1 - \\hat y)}$$\n",
    "\n",
    "Remeber that in our notation we have:\n",
    "\n",
    "$$\\hat y = \\sigma\\left( Z^{[2]} \\right) = A^{[2]}$$\n"
   ]
  },
  {
   "cell_type": "markdown",
   "id": "c741dad7",
   "metadata": {},
   "source": [
    "So we can write for the two first partial derivatives of our chain:\n",
    "\n",
    "\\begin{align}\n",
    "& \\frac{\\partial L}{\\partial \\hat y} =  \\frac{A^{[2]} - y}{A^{[2]}\\left(1 - A^{[2]}\\right)} \\\\\n",
    "& \\frac{\\partial \\hat y}{\\partial Z^{[2]}} = \\frac{\\partial \\sigma\\left( Z^{[2]} \\right)}{\\partial Z^{[2]}} \n",
    "= \\sigma\\left(Z^{[2]}\\right) \\cdot \\left[1 - \\sigma\\left(Z^{[2]}\\right)\\right] = {\\hat y}\\, (1 - \\hat y) = A^{[2]} \\left( 1 - A^{[2]} \\right)\n",
    "\\end{align}"
   ]
  },
  {
   "cell_type": "markdown",
   "id": "3a762170",
   "metadata": {},
   "source": [
    "putting it all together\n",
    "\n",
    "\\begin{align}\n",
    "\\frac{\\partial L}{\\partial W^{[i]}} \n",
    "& = \\frac{\\partial L}{\\partial \\hat y} \\cdot \\frac{\\partial \\hat y}{\\partial Z^{[2]}} \\cdot \\frac{\\partial Z^{[2]}}{\\partial W^{[i]}} \\\\\n",
    "& = \\frac{A^{[2]} - y}{A^{[2]}\\left(1 - A^{[2]}\\right)} \\cdot A^{[2]} \\left( 1 - A^{[2]} \\right) \\cdot  \\frac{\\partial Z^{[2]}}{\\partial W^{[i]}} \\\\\n",
    "& = \\left( A^{[2]} - y \\right) \\cdot \\frac{\\partial Z^{[2]}}{\\partial W^{[i]}}\n",
    "\\end{align}\n",
    "\n",
    "where $i=1,2$"
   ]
  },
  {
   "cell_type": "markdown",
   "id": "00f97274",
   "metadata": {},
   "source": [
    "Now we have only to compute the partial derivatives of the pre-activation function $Z^{[2]}$ with respect to $W^{[1]}$ and $W^{[2]}$. \n",
    "\n",
    "Remember that \n",
    "\n",
    "$$Z^{[2]} = W^{[2]} \\cdot A^{[1]}  + B^{[2]} = W^{[2]} \\cdot \\tanh\\left( W^{[1]} \\cdot X + B^{[1]} \\right) + B^{[2]}$$\n",
    "\n",
    "where\n",
    "\n",
    "$$A^{[1]} = \\tanh\\left( W^{[1]} \\cdot X + B^{[1]}\\right) = \\tanh\\left( Z^{[1]} \\right)$$\n",
    "\n",
    "We have"
   ]
  },
  {
   "cell_type": "markdown",
   "id": "c9b97d53",
   "metadata": {},
   "source": [
    "\\begin{align}\n",
    "& \\frac{\\partial Z^{[2]}}{\\partial W^{[2]}} = A^{[1]} \\\\\n",
    "& \\frac{\\partial Z^{[2]}}{\\partial W^{[1]}} = W^{[2]} \\cdot \\frac{\\partial \\tanh\\left(Z^{[1]} \\right)}{\\partial Z^{[1]}} \\cdot \\frac{\\partial Z^{[1]}}{\\partial W^{[1]}}\n",
    "\\end{align}"
   ]
  },
  {
   "cell_type": "markdown",
   "id": "a7828b18",
   "metadata": {},
   "source": [
    "\\begin{equation}\n",
    "\\left\\{\n",
    "\\begin{aligned}\n",
    "& \\frac{\\partial \\tanh\\left(Z^{[1]} \\right)}{\\partial Z^{[1]}}  = 1 - \\left[ \\tanh\\left(Z^{[1]} \\right) \\right]^2 = \n",
    "1 - \\left( A^{[1]} \\right)^2 \\\\\n",
    "& \\frac{\\partial Z^{[1]}}{\\partial W^{[1]}} = X\n",
    "\\end{aligned}\n",
    "\\right.\n",
    "\\end{equation} \n",
    "\n",
    "\\begin{align*}\n",
    "\\frac{\\partial Z^{[2]}}{\\partial W^{[1]}} = W^{[2]} \\cdot X \\cdot \\left[ 1 - \\left( A^{[1]} \\right)^2 \\right]\n",
    "\\end{align*}"
   ]
  },
  {
   "cell_type": "markdown",
   "id": "0f6c627b",
   "metadata": {},
   "source": [
    "Now we have all the elements to calculate the derivative of the loss function with respect to the weights \n",
    "\n",
    "\\begin{align}\n",
    "& \\frac{\\partial L}{\\partial W^{[1]}} = \\left( A^{[2]} - y \\right) \\cdot \\frac{\\partial Z^{[2]}}{\\partial W^{[1]}} = \\left( A^{[2]} - y \\right) \\cdot W^{[2]} \\cdot X \\cdot \\left[ 1 - \\left( A^{[1]} \\right)^2 \\right] \\\\\n",
    "& \\frac{\\partial L}{\\partial W^{[2]}} = \\left( A^{[2]} - y \\right) \\cdot \\frac{\\partial Z^{[2]}}{\\partial W^{[2]}} = \n",
    "\\left( A^{[2]} - y \\right) \\cdot A^{[1]}\n",
    "\\end{align}\n"
   ]
  },
  {
   "cell_type": "markdown",
   "id": "5920270a",
   "metadata": {},
   "source": [
    "In the python code we put also:\n",
    "\n",
    "\\begin{align} \n",
    "& \\Delta^{[2]} = A^{[2]} - y  \\\\\n",
    "& \\Delta^{[1]} = \\Delta^{[2]} \\cdot W^{[2]} \\cdot (1 - A^{[1]^2})\n",
    "\\end{align}"
   ]
  },
  {
   "cell_type": "markdown",
   "id": "5ed9274b",
   "metadata": {},
   "source": [
    "So we finally have\n",
    "\n",
    "\\begin{align}\n",
    "& \\Delta W^{[2]} = -\\frac{\\partial L}{\\partial W^{[2]}} = - \\Delta^{[2]} \\cdot A^{[1]} \\\\\n",
    "& \\Delta W^{[1]} = -\\frac{\\partial L}{\\partial W^{[1]}} = - \\Delta^{[1]} \\cdot X\n",
    "\\end{align}"
   ]
  },
  {
   "cell_type": "markdown",
   "id": "a1f3dab9",
   "metadata": {},
   "source": [
    "For completeness we also report the formulas for updating the bias vectors\n",
    "\n",
    "\\begin{align}\n",
    "& \\Delta b^{[2]} = \\frac{1}{m}np.sum(dZ^{[2]}, axis=1, keepdims=True) \n",
    "\\end{align}\n",
    "\n",
    "\\begin{equation} \n",
    "\\Delta b^{[1]} = \\frac{1}{m}np.sum(dZ^{[1]}, axis=1, keepdims=True)  \n",
    "\\end{equation}\n",
    "\n",
    "In summary:\n",
    "\n",
    "- Error is calculated between the expected outputs and the outputs forward propagated from the network.\n",
    "- These errors are then propagated backward through the network from the output layer to the hidden layer, assigning a penalty for the error and updating weights as they go."
   ]
  },
  {
   "cell_type": "markdown",
   "id": "d195e125",
   "metadata": {},
   "source": [
    "Let's break down the shape of each element, given number of each layer equals `(n_x, n_h, n_y)` and batch size equals `m`:\n",
    "\n",
    "- $A^{[2]}$, $Y$ and $dZ^{[2]}$ has shape `(n_y, m)`\n",
    "- Because $A^{[1]}$ has shape `(n_h, m)`, $dW^{[2]}$ would have shape `(n_y, n_h)`\n",
    "- $db^{[2]}$ has shape `(n_y, 1)`\n",
    "\n",
    "- Because $dZ^{[2]}$ has shape `(n_y, m)`, $W^{[2]}$ has shape`(n_y, n_h)`, $dZ^{[1]}$ would have shape `(n_h, m)`\n",
    "- In equation $(5)$, $X$ has shape `(n_x, m)`, so $dW^{[1]}$ has shape `(n_h, n_x)`\n",
    "- $db^{[1]}$ has shape `(n_h, 1)`\n",
    "\n",
    "\n",
    "Once we understand the formula, implementation should come with ease."
   ]
  },
  {
   "cell_type": "code",
   "execution_count": 47,
   "id": "e95dc5f7",
   "metadata": {},
   "outputs": [],
   "source": [
    "def backward(params, cache, X, Y):\n",
    "    \"\"\"\n",
    "    [From coursera deep-learning course]\n",
    "    params: we initiate above with W1, b1, W2, b2\n",
    "    cache: the intermediate caculation we saved with Z1, A1, Z2, A2\n",
    "    X: shape of (n_x, m)\n",
    "    Y: shape (n_y, m)\n",
    "    \"\"\"\n",
    "    # Calculate the number of training examples m from the shape of the input data X:\n",
    "    m = X.shape[1]\n",
    "    # Extract the necessary parameters and intermediate values from the provided params and cache dictionaries\n",
    "    W1 = params['W1']\n",
    "    W2 = params['W2']\n",
    "    A1 = cache['A1']\n",
    "    A2 = cache['A2']\n",
    "    #\n",
    "    # Compute the gradients for the parameters in the backward pass of backpropagation\n",
    "    #\n",
    "    # DL2 represents the derivative of the loss with respect to the activations of the output \n",
    "    # layer (A2) and is calculated as the difference between A2 and Y:\n",
    "    DL2 = A2 - Y\n",
    "    # dW2 represents the gradient of the loss with respect to the weights of the second layer\n",
    "    dW2 = (1 / m) * np.dot(DL2, A1.T)\n",
    "    # db2 represents the gradient of the loss with respect to the biases of the second layer \n",
    "    db2 = (1 / m) * np.sum(DL2, axis=1, keepdims=True)\n",
    "    # DL1 represents the derivative of the loss with respect to the activations of the first \n",
    "    # hidden layer (A1) and is computed using the chain rule. It involves the element-wise product \n",
    "    # of the transpose of W2 and the derivative of the activation function applied to A1:\n",
    "    DL1 = np.multiply(np.dot(W2.T, DL2), 1 - np.power(A1, 2))\n",
    "    # dW1 represents the gradient of the loss with respect to the weights of the first layer \n",
    "    dW1 = (1 / m) * np.dot(DL1, X.T)\n",
    "    # db1 represents the gradient of the loss with respect to the biases of the first layer\n",
    "    db1 = (1 / m) * np.sum(DL1, axis=1, keepdims=True)\n",
    "\n",
    "    grads = {\"dW1\": dW1,\n",
    "             \"db1\": db1,\n",
    "             \"dW2\": dW2,\n",
    "             \"db2\": db2}\n",
    "\n",
    "    return grads"
   ]
  },
  {
   "cell_type": "markdown",
   "id": "4a0c031d",
   "metadata": {},
   "source": [
    "### Batch Loader\n",
    "\n",
    "Now let's ensemble everything into a class."
   ]
  },
  {
   "cell_type": "code",
   "execution_count": 48,
   "id": "a0c7a89e",
   "metadata": {},
   "outputs": [],
   "source": [
    "class ShallowNN:\n",
    "    def __init__(self, n_input, n_hidden, n_output):\n",
    "        self.n_input = n_input\n",
    "        self.n_hidden = n_hidden\n",
    "        self.n_output = n_output\n",
    "        self.params = {}\n",
    "        self.cache = {}\n",
    "        self.grads = {}\n",
    "        \n",
    "    def compute_loss(self, Y, Y_hat):\n",
    "        \"\"\"\n",
    "        Y: vector of true value\n",
    "        Y_hat: vector of predicted value\n",
    "        \"\"\"\n",
    "        assert Y.shape[0] == 1\n",
    "        assert Y.shape == Y_hat.shape\n",
    "        m = Y.shape[1]\n",
    "        s = Y * np.log(Y_hat) + (1 - Y) * np.log(1 - Y_hat)\n",
    "        loss = -np.sum(s) / m\n",
    "        return loss\n",
    "    \n",
    "    \n",
    "    def init_weights(self):\n",
    "        self.params['W1'] = np.random.randn(self.n_hidden, self.n_input) * 0.01\n",
    "        self.params['b1'] = np.zeros((self.n_hidden, 1))\n",
    "        self.params['W2'] = np.random.randn(self.n_output, self.n_hidden) * 0.01\n",
    "        self.params['b2'] = np.zeros((self.n_output, 1))\n",
    "    \n",
    "    \n",
    "    def forward(self, X):\n",
    "        \"\"\"\n",
    "        X: need to have shape (n_features x m_samples)\n",
    "        \"\"\"\n",
    "        W1, b1, W2, b2 = self.params['W1'], self.params['b1'], self.params['W2'], self.params['b2']\n",
    "        A0 = X\n",
    "\n",
    "        Z1 = np.dot(W1, A0) + b1\n",
    "        A1 = tanh(Z1)\n",
    "        Z2 = np.dot(W2, A1) + b2\n",
    "        A2 = sigmoid(Z2)\n",
    "\n",
    "        self.cache['Z1'] = Z1\n",
    "        self.cache['A1'] = A1\n",
    "        self.cache['Z2'] = Z2\n",
    "        self.cache['A2'] = A2\n",
    "     \n",
    "    \n",
    "    def backward(self, X, Y):\n",
    "        \"\"\"\n",
    "        [From coursera deep-learning course]\n",
    "        params: we initiate above with W1, b1, W2, b2\n",
    "        cache: the intermediate caculation we saved with Z1, A1, Z2, A2\n",
    "        X: shape of (n_x, m)\n",
    "        Y: shape (n_y, m)\n",
    "        \"\"\"\n",
    "\n",
    "        m = X.shape[1]\n",
    "\n",
    "        W1 = self.params['W1']\n",
    "        W2 = self.params['W2']\n",
    "        A1 = self.cache['A1']\n",
    "        A2 = self.cache['A2']\n",
    "\n",
    "        dZ2 = A2 - Y\n",
    "        dW2 = (1 / m) * np.dot(dZ2, A1.T)\n",
    "        db2 = (1 / m) * np.sum(dZ2, axis=1, keepdims=True)\n",
    "        dZ1 = np.multiply(np.dot(W2.T, dZ2), 1 - np.power(A1, 2))\n",
    "        dW1 = (1 / m) * np.dot(dZ1, X.T)\n",
    "        db1 = (1 / m) * np.sum(dZ1, axis=1, keepdims=True)\n",
    "\n",
    "        self.grads = {\"dW1\": dW1,\n",
    "                      \"db1\": db1,\n",
    "                      \"dW2\": dW2,\n",
    "                      \"db2\": db2}\n",
    "\n",
    "        \n",
    "    def get_batch_indices(self, X_train, batch_size):\n",
    "        n = X_train.shape[0]\n",
    "        indices = [range(i, i+batch_size) for i in range(0, n, batch_size)]\n",
    "        return indices\n",
    "    \n",
    "    \n",
    "    def update_weights(self, lr):\n",
    "        W1, b1, W2, b2 = self.params['W1'], self.params['b1'], self.params['W2'], self.params['b2']\n",
    "        dW1, db1, dW2, db2 = self.grads['dW1'], self.grads['db1'], self.grads['dW2'], self.grads['db2']\n",
    "        self.params['W1'] -= dW1\n",
    "        self.params['W2'] -= dW2\n",
    "        self.params['b1'] -= db1\n",
    "        self.params['b2'] -= db2\n",
    "    \n",
    "    \n",
    "    def fit(self, X_train, y_train, batch_size=32, n_iterations=100, lr=0.01):\n",
    "        self.init_weights()\n",
    "        \n",
    "        indices = self.get_batch_indices(X_train, batch_size)\n",
    "        for i in range(n_iterations):\n",
    "            for ind in indices:\n",
    "                X = X_train[ind, :].T\n",
    "                Y = y_train[ind].reshape(1, batch_size)\n",
    "                \n",
    "                self.forward(X)\n",
    "                self.backward(X, Y)\n",
    "                self.update_weights(lr)\n",
    "            \n",
    "            if i % 10 == 0:\n",
    "                Y_hat = self.cache['A2']\n",
    "                loss = self.compute_loss(Y, Y_hat)\n",
    "                print(f'iteration {i}: loss {loss}')\n",
    "            \n",
    "            \n",
    "    def predict(self, X):\n",
    "        W1, b1, W2, b2 = self.params['W1'], self.params['b1'], self.params['W2'], self.params['b2']\n",
    "        A0 = X\n",
    "\n",
    "        Z1 = np.dot(W1, A0) + b1\n",
    "        A1 = tanh(Z1)\n",
    "        Z2 = np.dot(W2, A1) + b2\n",
    "        A2 = sigmoid(Z2)\n",
    "\n",
    "        return A2\n",
    "\n",
    "    \n",
    "def accuracy(Y, Y_pred):\n",
    "    \"\"\"\n",
    "    Y: vector of true value\n",
    "    Y_pred: vector of predicted value\n",
    "    \"\"\"\n",
    "    def _to_binary(x):\n",
    "        return 1 if x > .5 else 0\n",
    "\n",
    "    assert Y.shape[0] == 1\n",
    "    assert Y.shape    == Y_pred.shape\n",
    "    Y_pred = np.vectorize(_to_binary)(Y_pred)\n",
    "    acc = float(np.dot(Y, Y_pred.T) + np.dot(1 - Y, 1 - Y_pred.T))/Y.size\n",
    "    return acc"
   ]
  },
  {
   "cell_type": "code",
   "execution_count": 49,
   "id": "1b46709d",
   "metadata": {},
   "outputs": [],
   "source": [
    "model = ShallowNN(n_features, n_hidden, 1)"
   ]
  },
  {
   "cell_type": "code",
   "execution_count": 50,
   "id": "a9fe4786",
   "metadata": {},
   "outputs": [
    {
     "name": "stdout",
     "output_type": "stream",
     "text": [
      "iteration 0: loss 0.42147746598052555\n",
      "iteration 10: loss 0.1901101601962515\n",
      "iteration 20: loss 0.15626532588360817\n",
      "iteration 30: loss 0.14470635638636606\n",
      "iteration 40: loss 0.14852334807135942\n",
      "iteration 50: loss 0.13027184786614096\n",
      "iteration 60: loss 0.13472349198789163\n",
      "iteration 70: loss 0.12052915369513048\n",
      "iteration 80: loss 0.12676933747218413\n",
      "iteration 90: loss 0.11729025107809435\n",
      "iteration 100: loss 0.11364812594564792\n",
      "iteration 110: loss 0.12557974001276015\n",
      "iteration 120: loss 0.11827348223626151\n",
      "iteration 130: loss 0.10607862228992683\n",
      "iteration 140: loss 0.11802256774756886\n",
      "iteration 150: loss 0.11523306234640965\n",
      "iteration 160: loss 0.1214301412374162\n",
      "iteration 170: loss 0.11254566659994955\n",
      "iteration 180: loss 0.13385976267850247\n",
      "iteration 190: loss 0.11075181299051788\n",
      "iteration 200: loss 0.13265456887004898\n",
      "iteration 210: loss 0.11711061808925197\n",
      "iteration 220: loss 0.12471366505549523\n",
      "iteration 230: loss 0.11340277526737609\n",
      "iteration 240: loss 0.11215853181398637\n",
      "iteration 250: loss 0.11326409446052274\n",
      "iteration 260: loss 0.11115007456437377\n",
      "iteration 270: loss 0.11499048908025164\n",
      "iteration 280: loss 0.11252617264788413\n",
      "iteration 290: loss 0.11232982350922231\n",
      "iteration 300: loss 0.1116244200325167\n",
      "iteration 310: loss 0.11105092094457618\n",
      "iteration 320: loss 0.11055705782618523\n",
      "iteration 330: loss 0.11067126936903762\n",
      "iteration 340: loss 0.11073913368863005\n",
      "iteration 350: loss 0.11070815278245519\n",
      "iteration 360: loss 0.11066857160832994\n",
      "iteration 370: loss 0.11064190820804716\n",
      "iteration 380: loss 0.11063494983780968\n",
      "iteration 390: loss 0.11064744821000101\n",
      "iteration 400: loss 0.11066889927789397\n",
      "iteration 410: loss 0.1106770094507932\n",
      "iteration 420: loss 0.11064842824981684\n",
      "iteration 430: loss 0.11057594264934778\n",
      "iteration 440: loss 0.1104706498153865\n",
      "iteration 450: loss 0.11034770443090737\n",
      "iteration 460: loss 0.11021723071687804\n",
      "iteration 470: loss 0.11008481940157903\n",
      "iteration 480: loss 0.10995422943587776\n",
      "iteration 490: loss 0.10982921177581599\n"
     ]
    }
   ],
   "source": [
    "model.fit(X_train, y_train, batch_size=100, n_iterations=500, lr=0.01)"
   ]
  },
  {
   "cell_type": "code",
   "execution_count": 51,
   "id": "7fd3baac",
   "metadata": {},
   "outputs": [
    {
     "name": "stdout",
     "output_type": "stream",
     "text": [
      "accuracy: 93.89999999999999%\n"
     ]
    },
    {
     "name": "stderr",
     "output_type": "stream",
     "text": [
      "C:\\Users\\User\\AppData\\Local\\Temp\\ipykernel_9412\\3223901223.py:134: DeprecationWarning: Conversion of an array with ndim > 0 to a scalar is deprecated, and will error in future. Ensure you extract a single element from your array before performing this operation. (Deprecated NumPy 1.25.)\n",
      "  acc = float(np.dot(Y, Y_pred.T) + np.dot(1 - Y, 1 - Y_pred.T))/Y.size\n"
     ]
    }
   ],
   "source": [
    "y_preds = model.predict(X_test.T)\n",
    "\n",
    "acc = accuracy(y_test.reshape(1, -1), y_preds)\n",
    "print(f'accuracy: {acc*100}%')"
   ]
  },
  {
   "cell_type": "markdown",
   "id": "a9fc6691",
   "metadata": {},
   "source": [
    "## Keras: the Python Deep Learning API"
   ]
  },
  {
   "cell_type": "markdown",
   "id": "42086087",
   "metadata": {},
   "source": [
    "In this chapter we will present the code samples found in Chapter 2, Section 1 of **Deep Learning with Python** by François Chollet the creator of ***Keras***.\n",
    "\n",
    "***Keras*** is a high-level Deep Learning API that allows you to easily build, train, evaluate and execute all sorts of neural networks. Its documentation (or specification) is available at https://keras.io. It was developed by ***François Chollet*** as part of a research project and released as an open source project in March 2015. It quickly gained popularity owing to its ease-of-use, flexibility and beautiful design. To perform the heavy computations required by neural networks, keras-team relies on a computation backend. At the present, you can choose from three popular open source deep learning libraries: TensorFlow, Microsoft Cognitive Toolkit (CNTK) or Theano.\n",
    "\n",
    "The problem we are trying to solve here is to classify grayscale images of handwritten digits (28 pixels by 28 pixels), into their 10 categories (0 to 9). The dataset we will use is the MNIST dataset, a classic dataset in the machine learning community, which has been around for almost as long as the field itself and has been very intensively studied. It's a set of 60,000 training images, plus 10,000 test images, assembled by the National Institute of Standards and Technology (the NIST in MNIST) in the 1980s. You can think of \"solving\" MNIST as the \"Hello World\" of deep learning -- it's what you do to verify that your algorithms are working as expected. As you become a machine learning practitioner, you will see MNIST come up over and over again, in scientific papers, blog posts, and so on."
   ]
  },
  {
   "cell_type": "markdown",
   "id": "e2b3ff39",
   "metadata": {},
   "source": [
    "<center>\n",
    "    \n",
    "<img src=\"./pics/ch-07-01-05.jpg\" width=\"300\" height=\"300\">\n",
    "</center>"
   ]
  },
  {
   "cell_type": "markdown",
   "id": "cf9f787e",
   "metadata": {},
   "source": [
    "![ch-01-01-20.jpg](./pics/ch-07-01-05.jpg)"
   ]
  },
  {
   "cell_type": "code",
   "execution_count": 52,
   "id": "c70b4542",
   "metadata": {},
   "outputs": [],
   "source": [
    "import keras"
   ]
  },
  {
   "cell_type": "markdown",
   "id": "144c1412",
   "metadata": {},
   "source": [
    "The MNIST dataset comes pre-loaded in Keras, in the form of a set of four Numpy arrays:"
   ]
  },
  {
   "cell_type": "code",
   "execution_count": 53,
   "id": "d32e0f95",
   "metadata": {},
   "outputs": [],
   "source": [
    "from keras.datasets import mnist\n",
    "\n",
    "(train_images, train_labels), (test_images, test_labels) = mnist.load_data()"
   ]
  },
  {
   "cell_type": "markdown",
   "id": "c452dfbd",
   "metadata": {},
   "source": [
    "`train_images` and `train_labels` form the \"training set\", the data that the model will learn from. The model will then be tested on the \n",
    "\"test set\", `test_images` and `test_labels`. Our images are encoded as Numpy arrays, and the labels are simply an array of digits, ranging \n",
    "from 0 to 9. There is a one-to-one correspondence between the images and the labels.\n",
    "\n",
    "Let's have a look at the training data:"
   ]
  },
  {
   "cell_type": "code",
   "execution_count": 54,
   "id": "6f0133e4",
   "metadata": {},
   "outputs": [
    {
     "data": {
      "text/plain": [
       "(60000, 28, 28)"
      ]
     },
     "execution_count": 54,
     "metadata": {},
     "output_type": "execute_result"
    }
   ],
   "source": [
    "train_images.shape"
   ]
  },
  {
   "cell_type": "code",
   "execution_count": 55,
   "id": "394ffe2a",
   "metadata": {},
   "outputs": [
    {
     "data": {
      "text/plain": [
       "60000"
      ]
     },
     "execution_count": 55,
     "metadata": {},
     "output_type": "execute_result"
    }
   ],
   "source": [
    "len(train_labels)"
   ]
  },
  {
   "cell_type": "code",
   "execution_count": 56,
   "id": "6ca70a00",
   "metadata": {},
   "outputs": [
    {
     "data": {
      "text/plain": [
       "array([5, 0, 4, ..., 5, 6, 8], dtype=uint8)"
      ]
     },
     "execution_count": 56,
     "metadata": {},
     "output_type": "execute_result"
    }
   ],
   "source": [
    "train_labels"
   ]
  },
  {
   "cell_type": "markdown",
   "id": "69675a12",
   "metadata": {},
   "source": [
    "Let's have a look at the test data:"
   ]
  },
  {
   "cell_type": "code",
   "execution_count": 57,
   "id": "59bc8cfe",
   "metadata": {},
   "outputs": [
    {
     "name": "stdout",
     "output_type": "stream",
     "text": [
      "(10000, 28, 28)\n",
      "(10000,)\n"
     ]
    }
   ],
   "source": [
    "print(test_images.shape)\n",
    "print(test_labels.shape)"
   ]
  },
  {
   "cell_type": "code",
   "execution_count": 58,
   "id": "8b82d045",
   "metadata": {},
   "outputs": [
    {
     "name": "stdout",
     "output_type": "stream",
     "text": [
      "10000\n",
      "7\n"
     ]
    }
   ],
   "source": [
    "print(len(test_labels))\n",
    "print(test_labels[0])"
   ]
  },
  {
   "cell_type": "code",
   "execution_count": 59,
   "id": "8fce9981",
   "metadata": {},
   "outputs": [
    {
     "data": {
      "text/plain": [
       "array([7, 2, 1, ..., 4, 5, 6], dtype=uint8)"
      ]
     },
     "execution_count": 59,
     "metadata": {},
     "output_type": "execute_result"
    }
   ],
   "source": [
    "test_labels"
   ]
  },
  {
   "cell_type": "markdown",
   "id": "b6d392af",
   "metadata": {},
   "source": [
    "Our workflow will be as follow: first we will present our neural network with the training data, `train_images` and `train_labels`. The \n",
    "network will then learn to associate images and labels. Finally, we will ask the network to produce predictions for `test_images`, and we \n",
    "will verify if these predictions match the labels from `test_labels`.\n",
    "\n",
    "Let's build our network. The code below defines a simple neural network model with two dense layers. The first layer has 512 neurons with ReLU activation, and the second layer has 10 neurons with softmax activation, which makes it suitable for multi-class classification tasks. This model can be used for tasks such as image classification, where input images are 28x28 pixels and there are 10 possible classes to predict."
   ]
  },
  {
   "cell_type": "code",
   "execution_count": 60,
   "id": "f495b418",
   "metadata": {},
   "outputs": [],
   "source": [
    "from keras import models\n",
    "from keras import layers\n",
    "\n",
    "# This line creates a sequential model, which is a linear stack of layers. In a sequential model, you \n",
    "# can add layers one after another, and the data flows through the layers from input to output.\n",
    "network = models.Sequential()\n",
    "# This line adds a dense layer to the model. Here's what each argument means:\n",
    "# - 512                    : This is the number of neurons (units) in the layer. The layer has 512 neurons, \n",
    "#                            and this is the output dimension of the layer.\n",
    "# - activation='relu'      : This specifies that the ReLU (Rectified Linear Unit) activation function is used \n",
    "#                            for this layer. ReLU is a popular activation function that introduces non-linearity \n",
    "#                            into the network.\n",
    "# - input_shape=(28 * 28,) : This specifies the shape of the input data that the model expects. In this case, \n",
    "#                            it's a flattened 28x28 image, so it has 784 input features.\n",
    "# This dense layer takes the 784 input features, processes them through 512 neurons with ReLU activation, \n",
    "# and produces a 512-dimensional output.\n",
    "network.add(layers.Dense(512, activation='relu', input_shape=(28 * 28,)))\n",
    "# This line adds a second dense layer to the model with 10 neurons. This layer uses the softmax activation function.\n",
    "# The softmax activation is often used in the output layer of a classification model. It converts the network's \n",
    "# raw output values into a probability distribution over multiple classes. In this case, it's used for multi-class \n",
    "# classification, where the network is expected to predict one of 10 possible classes.\n",
    "network.add(layers.Dense(10, activation='softmax'))"
   ]
  },
  {
   "cell_type": "markdown",
   "id": "3fb88c62",
   "metadata": {},
   "source": [
    "Let’s go through this code line by line:\n",
    "\n",
    "- The first line creates a Sequential model. This is the simplest kind of Keras model, for neural networks that are just composed of a single stack of layers, connected sequentially. This is called the sequential API.\n",
    "\n",
    "- Next, we build the first layer and add it to the model. It is ***Dense*** hidden layer with 512 neurons. It will use the ReLU activation function. Each Dense layer manages its own weight matrix, containing all the connection weights between the neurons and their inputs. It also manages a vector of bias terms (one per neuron). When it receives some input data, it computes \n",
    "\n",
    "$$\\phi \\left( Z^{[1]} = W^{[1]} \\cdot X + B^{[1]} \\right), \\quad \\phi(z) = \\textit{ReLU}(z)$$\n",
    "\n",
    "- Finally, we add a Dense output layer with 10 neurons (one per class). Using a 10-way \"softmax\" layer means that it will return an array of 10 probability scores (summing to 1). Each score will be the probability that the current digit image belongs to one of our 10 digit classes."
   ]
  },
  {
   "cell_type": "markdown",
   "id": "fc1c4021",
   "metadata": {},
   "source": [
    ">**NOTE** - **The ReLU Activation Function** The Rectified Linear Unit (ReLU) activation function is a simple but widely used nonlinear activation function in artificial neural networks. It is defined as:\n",
    ">\n",
    ">$$f(x) = max(0, x)$$\n",
    ">\n",
    ">In other words, ReLU returns 0 for any negative input, and for positive input, it returns the same value. This function introduces sparsity in the network, as it zeros out negative values, which can help in reducing the likelihood of vanishing gradients during training. ReLU is computationally efficient and has been found to be effective in many deep learning architectures."
   ]
  },
  {
   "cell_type": "markdown",
   "id": "d2d81d48",
   "metadata": {},
   "source": [
    ">**NOTE** - **The softmax Activation Function** The softmax activation function is commonly used in multi-class classification problems. It takes a vector of arbitrary real-valued scores as input and converts them into probabilities that sum up to 1. Mathematically, the softmax function is defined as follows:\n",
    ">\n",
    ">$$\\text{softmax}(x_i) = \\frac{e^{x_i}}{\\sum_{j=1}^{N} e^{x_j}}$$\n",
    ">\n",
    ">where $x_i$ represents the input score for class $i$, $N$ is the total number of classes, and $e$ is Euler's number (approximately 2.71828). The softmax function essentially ***transforms the input scores into a probability distribution over multiple classes***. This is achieved by exponentiating each score to ensure non-negativity and then normalizing the resulting values to sum up to 1. The higher the input score for a particular class relative to the other classes, the higher the probability assigned to that class by the softmax function. Softmax is typically used as the output activation function in the last layer of a neural network for multi-class classification tasks. It helps in making the network output interpretable as probabilities, which facilitates decision-making based on the most likely class prediction. Additionally, softmax enables the use of cross-entropy loss, which is commonly used as the objective function for training classification models."
   ]
  },
  {
   "cell_type": "markdown",
   "id": "ff7c477d",
   "metadata": {},
   "source": [
    "The model’s summary() method displays all the model’s layers, including each layer’s name (which is automatically generated unless you set it when creating the layer), its output shape (None means the batch size can be anything), and its number of parameters. The summary ends with the total number of parameters, including trainable and non-trainable parameters. Here we only have trainable parameters:"
   ]
  },
  {
   "cell_type": "code",
   "execution_count": 61,
   "id": "e4eac9b4",
   "metadata": {},
   "outputs": [
    {
     "name": "stdout",
     "output_type": "stream",
     "text": [
      "Model: \"sequential_2\"\n",
      "_________________________________________________________________\n",
      " Layer (type)                Output Shape              Param #   \n",
      "=================================================================\n",
      " dense_4 (Dense)             (None, 512)               401920    \n",
      "                                                                 \n",
      " dense_5 (Dense)             (None, 10)                5130      \n",
      "                                                                 \n",
      "=================================================================\n",
      "Total params: 407050 (1.55 MB)\n",
      "Trainable params: 407050 (1.55 MB)\n",
      "Non-trainable params: 0 (0.00 Byte)\n",
      "_________________________________________________________________\n"
     ]
    }
   ],
   "source": [
    "network.summary()"
   ]
  },
  {
   "cell_type": "markdown",
   "id": "c339e159",
   "metadata": {},
   "source": [
    "Note that Dense layers often have a lot of parameters. For example, **the first hidden\n",
    "layer has 784 × 512 connection weights, plus 512 bias terms, which adds up to\n",
    "401920 parameters!** This gives the model quite a lot of flexibility to fit the training\n",
    "data, but it also means that the model runs the risk of overfitting, especially when you\n",
    "do not have a lot of training data. We will come back to this later."
   ]
  },
  {
   "cell_type": "markdown",
   "id": "d5721740",
   "metadata": {},
   "source": [
    "To make our network ready for training, we need to pick three more things, as part of \"compilation\" step:\n",
    "\n",
    "* A **loss function**: the is how the network will be able to measure how good a job it is doing on its training data, and thus how it will be \n",
    "able to steer itself in the right direction.\n",
    "* An **optimizer**: this is the mechanism through which the network will update itself based on the data it sees and its loss function.\n",
    "* **Metrics** to monitor during training and testing. Here we will only care about accuracy (the fraction of the images that were correctly \n",
    "classified)."
   ]
  },
  {
   "cell_type": "markdown",
   "id": "e5d178b0",
   "metadata": {},
   "source": [
    "see [here](https://towardsdatascience.com/understanding-rmsprop-faster-neural-network-learning-62e116fcf29a) for a description of rmsprop and [here](https://ml-cheatsheet.readthedocs.io/en/latest/loss_functions.html) for crossentropy, note that for a binary classification, where the number of classes M equals 2, cross-entropy is exactly the loss function of the previous example."
   ]
  },
  {
   "cell_type": "code",
   "execution_count": 62,
   "id": "995ee548",
   "metadata": {},
   "outputs": [],
   "source": [
    "network.compile(optimizer='rmsprop',\n",
    "                loss='categorical_crossentropy',\n",
    "                metrics=['accuracy'])"
   ]
  },
  {
   "cell_type": "markdown",
   "id": "4c30536f",
   "metadata": {},
   "source": [
    "\n",
    "Before training, we will preprocess our data by reshaping it into the shape that the network expects, and scaling it so that all values are in \n",
    "the `[0, 1]` interval. Previously, our training images for instance were stored in an array of shape `(60000, 28, 28)` of type `uint8` with \n",
    "values in the `[0, 255]` interval. We transform it into a `float32` array of shape `(60000, 28 * 28)` with values between 0 and 1."
   ]
  },
  {
   "cell_type": "code",
   "execution_count": 63,
   "id": "3e1a4707",
   "metadata": {},
   "outputs": [],
   "source": [
    "train_images = train_images.reshape((60000, 28 * 28))\n",
    "train_images = train_images.astype('float32') / 255\n",
    "\n",
    "test_images = test_images.reshape((10000, 28 * 28))\n",
    "test_images = test_images.astype('float32') / 255"
   ]
  },
  {
   "cell_type": "markdown",
   "id": "43cf5e74",
   "metadata": {},
   "source": [
    "We also need to categorically encode the labels:"
   ]
  },
  {
   "cell_type": "code",
   "execution_count": 64,
   "id": "5ba334e3",
   "metadata": {},
   "outputs": [
    {
     "name": "stdout",
     "output_type": "stream",
     "text": [
      "7\n"
     ]
    }
   ],
   "source": [
    "print(test_labels[0])"
   ]
  },
  {
   "cell_type": "code",
   "execution_count": 65,
   "id": "292ed459",
   "metadata": {},
   "outputs": [],
   "source": [
    "from keras.utils import to_categorical\n",
    "\n",
    "train_labels = to_categorical(train_labels)\n",
    "test_labels = to_categorical(test_labels)"
   ]
  },
  {
   "cell_type": "code",
   "execution_count": 66,
   "id": "5571f8e1",
   "metadata": {},
   "outputs": [
    {
     "name": "stdout",
     "output_type": "stream",
     "text": [
      "[0. 0. 0. 0. 0. 0. 0. 1. 0. 0.]\n"
     ]
    }
   ],
   "source": [
    "print(test_labels[0])"
   ]
  },
  {
   "cell_type": "markdown",
   "id": "d21e8a77",
   "metadata": {},
   "source": [
    "**What is an epoch?**\n",
    "\n",
    "An epoch is a term used in machine learning and indicates the number of passes of the entire training dataset the machine learning algorithm has completed. Datasets are usually grouped into batches (especially when the amount of data is very large). Some people use the term iteration loosely and refer to putting one batch through the model as an iteration.   \n",
    "\n",
    "If the batch size is the whole training dataset then the number of epochs is the number of iterations. For practical reasons, this is usually not the case. Many models are created with more than one epoch. The general relation where dataset size is d, number of epochs is e, number of iterations is i, and batch size is b would be d*e = i*b. \n",
    "\n",
    "Determining how many epochs a model should run to train is based on many parameters related to both the data itself and the goal of the model, and while there have been efforts to turn this process into an algorithm, often a deep understanding of the data itself is indispensable.\n",
    "\n",
    "We are now ready to train our network, which in Keras is done via a call to the `fit` method of the network: \n",
    "we \"fit\" the model to its training data."
   ]
  },
  {
   "cell_type": "code",
   "execution_count": 67,
   "id": "7335e59d",
   "metadata": {},
   "outputs": [
    {
     "name": "stdout",
     "output_type": "stream",
     "text": [
      "Epoch 1/5\n",
      "469/469 [==============================] - 4s 8ms/step - loss: 0.2624 - accuracy: 0.9236\n",
      "Epoch 2/5\n",
      "469/469 [==============================] - 4s 8ms/step - loss: 0.1062 - accuracy: 0.9689\n",
      "Epoch 3/5\n",
      "469/469 [==============================] - 4s 8ms/step - loss: 0.0701 - accuracy: 0.9792\n",
      "Epoch 4/5\n",
      "469/469 [==============================] - 4s 8ms/step - loss: 0.0502 - accuracy: 0.9850\n",
      "Epoch 5/5\n",
      "469/469 [==============================] - 4s 8ms/step - loss: 0.0374 - accuracy: 0.9887\n"
     ]
    },
    {
     "data": {
      "text/plain": [
       "<keras.src.callbacks.History at 0x1cc0594b9a0>"
      ]
     },
     "execution_count": 67,
     "metadata": {},
     "output_type": "execute_result"
    }
   ],
   "source": [
    "network.fit(train_images, train_labels, epochs=5, batch_size=128)"
   ]
  },
  {
   "cell_type": "markdown",
   "id": "a1195088",
   "metadata": {},
   "source": [
    "Two quantities are being displayed during training: the \"loss\" of the network over the training data, and the accuracy of the network over \n",
    "the training data.\n",
    "\n",
    "We quickly reach an accuracy of 0.989 (i.e. 98.9%) on the training data. Now let's check that our model performs well on the test set too:"
   ]
  },
  {
   "cell_type": "code",
   "execution_count": 68,
   "id": "e598b630",
   "metadata": {},
   "outputs": [
    {
     "name": "stdout",
     "output_type": "stream",
     "text": [
      "313/313 [==============================] - 1s 3ms/step - loss: 0.0712 - accuracy: 0.9790\n"
     ]
    }
   ],
   "source": [
    "test_loss, test_acc = network.evaluate(test_images, test_labels)"
   ]
  },
  {
   "cell_type": "code",
   "execution_count": 69,
   "id": "a188c203",
   "metadata": {},
   "outputs": [
    {
     "name": "stdout",
     "output_type": "stream",
     "text": [
      "test_acc: 0.9789999723434448\n"
     ]
    }
   ],
   "source": [
    "print('test_acc:', test_acc)"
   ]
  },
  {
   "cell_type": "markdown",
   "id": "e836ecdb",
   "metadata": {},
   "source": [
    "Our test set accuracy turns out to be 97.8% -- that's quite a bit lower than the training set accuracy. \n",
    "This gap between training accuracy and test accuracy is an example of \"overfitting\", \n",
    "the fact that machine learning models tend to perform worse on new data than on their training data. "
   ]
  },
  {
   "cell_type": "markdown",
   "id": "0e3e1c84",
   "metadata": {},
   "source": [
    "**Accessing single layer weights**"
   ]
  },
  {
   "cell_type": "code",
   "execution_count": 96,
   "id": "8d639f73",
   "metadata": {},
   "outputs": [
    {
     "name": "stdout",
     "output_type": "stream",
     "text": [
      "dense_4\n",
      "2\n",
      "dense_5\n",
      "2\n"
     ]
    }
   ],
   "source": [
    "for lay in network.layers:\n",
    "    print(lay.name)\n",
    "    print(len(lay.get_weights()))"
   ]
  },
  {
   "cell_type": "code",
   "execution_count": 97,
   "id": "6a52247a",
   "metadata": {},
   "outputs": [
    {
     "name": "stdout",
     "output_type": "stream",
     "text": [
      "2\n",
      "(512, 10)\n",
      "(10,)\n"
     ]
    }
   ],
   "source": [
    "out_layer    = network.layers[1]\n",
    "out_weights  = out_layer.get_weights()\n",
    "\n",
    "print(len(out_weights))\n",
    "print(out_weights[0].shape) # W matrix\n",
    "print(out_weights[1].shape) # b array"
   ]
  },
  {
   "cell_type": "markdown",
   "id": "fc209e10",
   "metadata": {},
   "source": [
    "**Use of History property**"
   ]
  },
  {
   "cell_type": "code",
   "execution_count": 24,
   "id": "2bfc0957",
   "metadata": {},
   "outputs": [
    {
     "name": "stdout",
     "output_type": "stream",
     "text": [
      "(70000, 784) (70000, 10)\n"
     ]
    }
   ],
   "source": [
    "import numpy as np\n",
    "\n",
    "X = np.concatenate((train_images, test_images))\n",
    "Y = np.concatenate((train_labels, test_labels))\n",
    "print(X.shape, Y.shape)"
   ]
  },
  {
   "cell_type": "code",
   "execution_count": 25,
   "id": "974ef2a7",
   "metadata": {},
   "outputs": [
    {
     "name": "stdout",
     "output_type": "stream",
     "text": [
      "Epoch 1/5\n",
      "1466/1466 [==============================] - 12s 8ms/step - loss: 0.0431 - accuracy: 0.9861 - val_loss: 0.0598 - val_accuracy: 0.9815\n",
      "Epoch 2/5\n",
      "1466/1466 [==============================] - 11s 8ms/step - loss: 0.0329 - accuracy: 0.9895 - val_loss: 0.0688 - val_accuracy: 0.9808\n",
      "Epoch 3/5\n",
      "1466/1466 [==============================] - 12s 8ms/step - loss: 0.0259 - accuracy: 0.9918 - val_loss: 0.0689 - val_accuracy: 0.9813\n",
      "Epoch 4/5\n",
      "1466/1466 [==============================] - 12s 8ms/step - loss: 0.0180 - accuracy: 0.9945 - val_loss: 0.0692 - val_accuracy: 0.9819\n",
      "Epoch 5/5\n",
      "1466/1466 [==============================] - 12s 8ms/step - loss: 0.0143 - accuracy: 0.9959 - val_loss: 0.0676 - val_accuracy: 0.9828\n"
     ]
    }
   ],
   "source": [
    "history = network.fit(X, Y, validation_split=0.33, epochs=5, verbose=1)"
   ]
  },
  {
   "cell_type": "code",
   "execution_count": 26,
   "id": "d71410c0",
   "metadata": {},
   "outputs": [
    {
     "name": "stdout",
     "output_type": "stream",
     "text": [
      "dict_keys(['loss', 'accuracy', 'val_loss', 'val_accuracy'])\n"
     ]
    }
   ],
   "source": [
    "# list all data in history\n",
    "print(history.history.keys())"
   ]
  },
  {
   "cell_type": "code",
   "execution_count": 27,
   "id": "09877d1a",
   "metadata": {},
   "outputs": [
    {
     "ename": "NameError",
     "evalue": "name 'plt' is not defined",
     "output_type": "error",
     "traceback": [
      "\u001b[1;31m---------------------------------------------------------------------------\u001b[0m",
      "\u001b[1;31mNameError\u001b[0m                                 Traceback (most recent call last)",
      "Cell \u001b[1;32mIn[27], line 2\u001b[0m\n\u001b[0;32m      1\u001b[0m \u001b[38;5;66;03m# summarize history for accuracy\u001b[39;00m\n\u001b[1;32m----> 2\u001b[0m \u001b[43mplt\u001b[49m\u001b[38;5;241m.\u001b[39mplot(history\u001b[38;5;241m.\u001b[39mhistory[\u001b[38;5;124m'\u001b[39m\u001b[38;5;124maccuracy\u001b[39m\u001b[38;5;124m'\u001b[39m])\n\u001b[0;32m      3\u001b[0m plt\u001b[38;5;241m.\u001b[39mplot(history\u001b[38;5;241m.\u001b[39mhistory[\u001b[38;5;124m'\u001b[39m\u001b[38;5;124mval_accuracy\u001b[39m\u001b[38;5;124m'\u001b[39m])\n\u001b[0;32m      4\u001b[0m plt\u001b[38;5;241m.\u001b[39mtitle(\u001b[38;5;124m'\u001b[39m\u001b[38;5;124mmodel accuracy\u001b[39m\u001b[38;5;124m'\u001b[39m)\n",
      "\u001b[1;31mNameError\u001b[0m: name 'plt' is not defined"
     ]
    }
   ],
   "source": [
    "# summarize history for accuracy\n",
    "plt.plot(history.history['accuracy'])\n",
    "plt.plot(history.history['val_accuracy'])\n",
    "plt.title('model accuracy')\n",
    "plt.ylabel('accuracy')\n",
    "plt.xlabel('epoch')\n",
    "plt.legend(['train', 'test'], loc='upper left')\n",
    "plt.show()\n",
    "# summarize history for loss\n",
    "plt.plot(history.history['loss'])\n",
    "plt.plot(history.history['val_loss'])\n",
    "plt.title('model loss')\n",
    "plt.ylabel('loss')\n",
    "plt.xlabel('epoch')\n",
    "plt.legend(['train', 'test'], loc='upper left')\n",
    "plt.show()"
   ]
  },
  {
   "cell_type": "markdown",
   "id": "faa2f538",
   "metadata": {},
   "source": [
    "This concludes our very first example: you just saw how we could build and a train a neural network to classify handwritten digits, in less than 20 lines of Python code. "
   ]
  },
  {
   "cell_type": "markdown",
   "id": "c5520a43",
   "metadata": {},
   "source": [
    "## Other types of Neural Networks"
   ]
  },
  {
   "cell_type": "markdown",
   "id": "816cff40",
   "metadata": {},
   "source": [
    "Convolutional neural networks (CNNs) are similar to feedforward networks, but they’re usually utilized for image recognition, pattern recognition, and/or computer vision. These networks harness principles from linear algebra, particularly matrix multiplication, to identify patterns within an image.\n",
    "\n",
    "Recurrent neural networks (RNNs) are identified by their feedback loops. These learning algorithms are primarily leveraged when using time-series data to make predictions about future outcomes, such as stock market predictions or sales forecasting."
   ]
  },
  {
   "cell_type": "markdown",
   "id": "71498a8b",
   "metadata": {},
   "source": [
    "## Appendix - Calculation of Activation Functions Derivatives\n",
    "\n",
    "### Derivative of the Hyperbolic Tangent\n",
    "\n",
    "$$\\frac{d}{{dx}}\\tanh x = \\frac{d}{{dx}}\\left( {\\frac{{{e^x} – {e^{ – x}}}}{{{e^x} + {e^{ – x}}}}} \\right)\n",
    "= \\frac{{\\left( {{e^x} + {e^{ – x}}} \\right)\\frac{d}{{dx}}\\left( {{e^x} – {e^{ – x}}} \\right) – \\left( {{e^x} + {e^{ – x}}} \\right)\\frac{d}{{dx}}\\left( {{e^x} – {e^{ – x}}} \\right)}}{{{{\\left( {{e^x} + {e^{ – x}}} \\right)}^2}}}$$\n",
    "\n",
    "\\begin{equation}\n",
    "\\begin{gathered} \\frac{d}{{dx}}\\left( {\\tanh x} \\right) = \\frac{{\\left( {{e^x} + {e^{ – x}}} \\right)\\left( {{e^x} + {e^{ – x}}} \\right) – \\left( {{e^x} + {e^{ – x}}} \\right)\\left( {{e^x} + {e^{ – x}}} \\right)}}{{{{\\left( {{e^x} + {e^{ – x}}} \\right)}^2}}} \\\\ \\Rightarrow \\frac{d}{{dx}}\\left( {\\tanh x} \\right) = \\frac{{{{\\left( {{e^x} + {e^{ – x}}} \\right)}^2} – {{\\left( {{e^x} + {e^{ – x}}} \\right)}^2}}}{{{{\\left( {{e^x} + {e^{ – x}}} \\right)}^2}}} \\\\ \\Rightarrow \\frac{d}{{dx}}\\left( {\\tanh x} \\right) = \\frac{{\\left( {{e^{2x}} + {e^{ – 2x}} + 2{e^x}{e^{ – x}}} \\right) – \\left( {{e^{2x}} + {e^{ – 2x}} – 2{e^x}{e^{ – x}}} \\right)}}{{{{\\left( {{e^x} + {e^{ – x}}} \\right)}^2}}} \\\\ \\Rightarrow \\frac{d}{{dx}}\\left( {\\tanh x} \\right) = \\frac{{\\left( {{e^{2x}} + {e^{ – 2x}} + 2} \\right) – \\left( {{e^{2x}} + {e^{ – 2x}} – 2} \\right)}}{{{{\\left( {{e^x} + {e^{ – x}}} \\right)}^2}}} \\\\ \\Rightarrow \\frac{d}{{dx}}\\left( {\\tanh x} \\right) = \\frac{{{e^{2x}} + {e^{ – 2x}} + 2 – {e^{2x}} – {e^{ – 2x}} + 2}}{{{{\\left( {{e^x} + {e^{ – x}}} \\right)}^2}}} \\\\ \\Rightarrow \\frac{d}{{dx}}\\left( {\\tanh x} \\right) = \\frac{4}{{{{\\left( {{e^x} + {e^{ – x}}} \\right)}^2}}} \\\\ \\Rightarrow \\frac{d}{{dx}}\\left( {\\tanh x} \\right) = 1 - {\\left( {\\frac{e^x - e^{-x}}{{{e^x} + {e^{ – x}}}}} \\right)^2} = 1 - {\\left(\\tanh x \\right)}^2 \\\\ \\end{gathered}\n",
    "\\end{equation}\n",
    "\n",
    "\n",
    "### Derivative of the Sigmoid\n",
    "\n",
    "\\begin{align*}\n",
    "\\dfrac{d}{dx} \\sigma(x) &= \\dfrac{d}{dx} \\left[ \\dfrac{1}{1 + e^{-x}} \\right] \\notag \\\\\n",
    "&= \\dfrac{d}{dx} \\left( 1 + \\mathrm{e}^{-x} \\right)^{-1} \\notag\\\\\n",
    "&= -(1 + e^{-x})^{-2}(-e^{-x}) \\notag\\\\\n",
    "&= \\dfrac{e^{-x}}{\\left(1 + e^{-x}\\right)^2} \\notag\\\\\n",
    "&= \\dfrac{1}{1 + e^{-x}\\ } \\cdot \\dfrac{e^{-x}}{1 + e^{-x}}  \\notag\\\\\n",
    "&= \\dfrac{1}{1 + e^{-x}\\ } \\cdot \\dfrac{(1 + e^{-x}) - 1}{1 + e^{-x}}  \\notag\\\\\n",
    "&= \\dfrac{1}{1 + e^{-x}\\ } \\cdot \\left( \\dfrac{1 + e^{-x}}{1 + e^{-x}} - \\dfrac{1}{1 + e^{-x}} \\right) \\notag\\\\\n",
    "&= \\dfrac{1}{1 + e^{-x}\\ } \\cdot \\left( 1 - \\dfrac{1}{1 + e^{-x}} \\right) \\notag\\\\\n",
    "&= \\sigma(x) \\cdot (1 - \\sigma(x))\n",
    "\\end{align*}"
   ]
  },
  {
   "cell_type": "markdown",
   "id": "6170a8d3",
   "metadata": {},
   "source": [
    "## References and Credits "
   ]
  },
  {
   "cell_type": "markdown",
   "id": "75dec0c6",
   "metadata": {},
   "source": [
    "***Chollet F.***, \"*Deep Learning with Python*\" Manning (2018)"
   ]
  },
  {
   "cell_type": "markdown",
   "id": "31661bd4",
   "metadata": {},
   "source": [
    "***Jeremy Z.***, \"*Build a Shallow Neural Network*\" click [here](https://towardsdatascience.com/building-a-shallow-neural-network-a4e2728441e0)  for the original post."
   ]
  }
 ],
 "metadata": {
  "kernelspec": {
   "display_name": "Python 3 (ipykernel)",
   "language": "python",
   "name": "python3"
  },
  "language_info": {
   "codemirror_mode": {
    "name": "ipython",
    "version": 3
   },
   "file_extension": ".py",
   "mimetype": "text/x-python",
   "name": "python",
   "nbconvert_exporter": "python",
   "pygments_lexer": "ipython3",
   "version": "3.10.9"
  },
  "toc": {
   "base_numbering": "1",
   "nav_menu": {},
   "number_sections": true,
   "sideBar": true,
   "skip_h1_title": false,
   "title_cell": "Table of Contents",
   "title_sidebar": "Contents",
   "toc_cell": false,
   "toc_position": {},
   "toc_section_display": true,
   "toc_window_display": false
  }
 },
 "nbformat": 4,
 "nbformat_minor": 5
}
